{
 "cells": [
  {
   "cell_type": "markdown",
   "metadata": {},
   "source": [
    "# Part2: Read CSV files with pandas\n",
    "- This is assignment 2"
   ]
  },
  {
   "cell_type": "code",
   "execution_count": 14,
   "metadata": {},
   "outputs": [
    {
     "name": "stdout",
     "output_type": "stream",
     "text": [
      "Populating the interactive namespace from numpy and matplotlib\n",
      "PUTdata /nfshome/kp2393/PUIdata\n"
     ]
    }
   ],
   "source": [
    "import os\n",
    "import pandas as pd\n",
    "import pylab as pl\n",
    "%pylab inline\n",
    "print(\"PUTdata\", os.getenv(\"PUIDATA\"))"
   ]
  },
  {
   "cell_type": "code",
   "execution_count": 15,
   "metadata": {},
   "outputs": [],
   "source": [
    "url = \"https://data.cityofnewyork.us/resource/waf7-5gvc.csv\"\n",
    "water = pd.read_csv(url)"
   ]
  },
  {
   "cell_type": "code",
   "execution_count": 16,
   "metadata": {
    "scrolled": true
   },
   "outputs": [
    {
     "data": {
      "text/html": [
       "<div>\n",
       "<table border=\"1\" class=\"dataframe\">\n",
       "  <thead>\n",
       "    <tr style=\"text-align: right;\">\n",
       "      <th></th>\n",
       "      <th>new_york_city_population</th>\n",
       "      <th>nyc_consumption_million_gallons_per_day</th>\n",
       "      <th>per_capita_gallons_per_person_per_day</th>\n",
       "      <th>year</th>\n",
       "    </tr>\n",
       "  </thead>\n",
       "  <tbody>\n",
       "    <tr>\n",
       "      <th>0</th>\n",
       "      <td>7102100.0</td>\n",
       "      <td>1512.0</td>\n",
       "      <td>213</td>\n",
       "      <td>1979</td>\n",
       "    </tr>\n",
       "    <tr>\n",
       "      <th>1</th>\n",
       "      <td>7071639.0</td>\n",
       "      <td>1506.0</td>\n",
       "      <td>213</td>\n",
       "      <td>1980</td>\n",
       "    </tr>\n",
       "    <tr>\n",
       "      <th>2</th>\n",
       "      <td>7089241.0</td>\n",
       "      <td>1309.0</td>\n",
       "      <td>185</td>\n",
       "      <td>1981</td>\n",
       "    </tr>\n",
       "    <tr>\n",
       "      <th>3</th>\n",
       "      <td>7109105.0</td>\n",
       "      <td>1382.0</td>\n",
       "      <td>194</td>\n",
       "      <td>1982</td>\n",
       "    </tr>\n",
       "    <tr>\n",
       "      <th>4</th>\n",
       "      <td>7181224.0</td>\n",
       "      <td>1424.0</td>\n",
       "      <td>198</td>\n",
       "      <td>1983</td>\n",
       "    </tr>\n",
       "    <tr>\n",
       "      <th>5</th>\n",
       "      <td>7234514.0</td>\n",
       "      <td>1465.0</td>\n",
       "      <td>203</td>\n",
       "      <td>1984</td>\n",
       "    </tr>\n",
       "    <tr>\n",
       "      <th>6</th>\n",
       "      <td>7274054.0</td>\n",
       "      <td>1326.0</td>\n",
       "      <td>182</td>\n",
       "      <td>1985</td>\n",
       "    </tr>\n",
       "  </tbody>\n",
       "</table>\n",
       "</div>"
      ],
      "text/plain": [
       "   new_york_city_population  nyc_consumption_million_gallons_per_day  \\\n",
       "0                 7102100.0                                   1512.0   \n",
       "1                 7071639.0                                   1506.0   \n",
       "2                 7089241.0                                   1309.0   \n",
       "3                 7109105.0                                   1382.0   \n",
       "4                 7181224.0                                   1424.0   \n",
       "5                 7234514.0                                   1465.0   \n",
       "6                 7274054.0                                   1326.0   \n",
       "\n",
       "   per_capita_gallons_per_person_per_day  year  \n",
       "0                                    213  1979  \n",
       "1                                    213  1980  \n",
       "2                                    185  1981  \n",
       "3                                    194  1982  \n",
       "4                                    198  1983  \n",
       "5                                    203  1984  \n",
       "6                                    182  1985  "
      ]
     },
     "execution_count": 16,
     "metadata": {},
     "output_type": "execute_result"
    }
   ],
   "source": [
    "water.head(7)"
   ]
  },
  {
   "cell_type": "code",
   "execution_count": 17,
   "metadata": {},
   "outputs": [
    {
     "data": {
      "text/html": [
       "<div>\n",
       "<table border=\"1\" class=\"dataframe\">\n",
       "  <thead>\n",
       "    <tr style=\"text-align: right;\">\n",
       "      <th></th>\n",
       "      <th>new_york_city_population</th>\n",
       "      <th>nyc_consumption_million_gallons_per_day</th>\n",
       "      <th>per_capita_gallons_per_person_per_day</th>\n",
       "      <th>year</th>\n",
       "    </tr>\n",
       "  </thead>\n",
       "  <tbody>\n",
       "    <tr>\n",
       "      <th>36</th>\n",
       "      <td>7506166.0</td>\n",
       "      <td>1368.5</td>\n",
       "      <td>182</td>\n",
       "      <td>1993</td>\n",
       "    </tr>\n",
       "    <tr>\n",
       "      <th>37</th>\n",
       "      <td>8041649.0</td>\n",
       "      <td>1135.6</td>\n",
       "      <td>141</td>\n",
       "      <td>2002</td>\n",
       "    </tr>\n",
       "    <tr>\n",
       "      <th>38</th>\n",
       "      <td>7570458.0</td>\n",
       "      <td>1357.7</td>\n",
       "      <td>179</td>\n",
       "      <td>1994</td>\n",
       "    </tr>\n",
       "  </tbody>\n",
       "</table>\n",
       "</div>"
      ],
      "text/plain": [
       "    new_york_city_population  nyc_consumption_million_gallons_per_day  \\\n",
       "36                 7506166.0                                   1368.5   \n",
       "37                 8041649.0                                   1135.6   \n",
       "38                 7570458.0                                   1357.7   \n",
       "\n",
       "    per_capita_gallons_per_person_per_day  year  \n",
       "36                                    182  1993  \n",
       "37                                    141  2002  \n",
       "38                                    179  1994  "
      ]
     },
     "execution_count": 17,
     "metadata": {},
     "output_type": "execute_result"
    }
   ],
   "source": [
    "water.tail(3)"
   ]
  },
  {
   "cell_type": "code",
   "execution_count": 67,
   "metadata": {},
   "outputs": [
    {
     "data": {
      "text/html": [
       "<div>\n",
       "<table border=\"1\" class=\"dataframe\">\n",
       "  <thead>\n",
       "    <tr style=\"text-align: right;\">\n",
       "      <th></th>\n",
       "      <th>new_york_city_population</th>\n",
       "      <th>nyc_consumption_million_gallons_per_day</th>\n",
       "      <th>per_capita_gallons_per_person_per_day</th>\n",
       "      <th>year</th>\n",
       "    </tr>\n",
       "  </thead>\n",
       "  <tbody>\n",
       "    <tr>\n",
       "      <th>count</th>\n",
       "      <td>3.900000e+01</td>\n",
       "      <td>39.000000</td>\n",
       "      <td>39.000000</td>\n",
       "      <td>39.000000</td>\n",
       "    </tr>\n",
       "    <tr>\n",
       "      <th>mean</th>\n",
       "      <td>7.789046e+06</td>\n",
       "      <td>1234.207692</td>\n",
       "      <td>160.307692</td>\n",
       "      <td>1998.000000</td>\n",
       "    </tr>\n",
       "    <tr>\n",
       "      <th>std</th>\n",
       "      <td>4.770796e+05</td>\n",
       "      <td>174.721588</td>\n",
       "      <td>31.930973</td>\n",
       "      <td>11.401754</td>\n",
       "    </tr>\n",
       "    <tr>\n",
       "      <th>min</th>\n",
       "      <td>7.071639e+06</td>\n",
       "      <td>990.200000</td>\n",
       "      <td>115.000000</td>\n",
       "      <td>1979.000000</td>\n",
       "    </tr>\n",
       "    <tr>\n",
       "      <th>25%</th>\n",
       "      <td>7.343326e+06</td>\n",
       "      <td>1081.350000</td>\n",
       "      <td>133.500000</td>\n",
       "      <td>1988.500000</td>\n",
       "    </tr>\n",
       "    <tr>\n",
       "      <th>50%</th>\n",
       "      <td>7.858259e+06</td>\n",
       "      <td>1237.200000</td>\n",
       "      <td>155.000000</td>\n",
       "      <td>1998.000000</td>\n",
       "    </tr>\n",
       "    <tr>\n",
       "      <th>75%</th>\n",
       "      <td>8.133419e+06</td>\n",
       "      <td>1375.500000</td>\n",
       "      <td>188.000000</td>\n",
       "      <td>2007.500000</td>\n",
       "    </tr>\n",
       "    <tr>\n",
       "      <th>max</th>\n",
       "      <td>8.622698e+06</td>\n",
       "      <td>1512.000000</td>\n",
       "      <td>213.000000</td>\n",
       "      <td>2017.000000</td>\n",
       "    </tr>\n",
       "  </tbody>\n",
       "</table>\n",
       "</div>"
      ],
      "text/plain": [
       "       new_york_city_population  nyc_consumption_million_gallons_per_day  \\\n",
       "count              3.900000e+01                                39.000000   \n",
       "mean               7.789046e+06                              1234.207692   \n",
       "std                4.770796e+05                               174.721588   \n",
       "min                7.071639e+06                               990.200000   \n",
       "25%                7.343326e+06                              1081.350000   \n",
       "50%                7.858259e+06                              1237.200000   \n",
       "75%                8.133419e+06                              1375.500000   \n",
       "max                8.622698e+06                              1512.000000   \n",
       "\n",
       "       per_capita_gallons_per_person_per_day         year  \n",
       "count                              39.000000    39.000000  \n",
       "mean                              160.307692  1998.000000  \n",
       "std                                31.930973    11.401754  \n",
       "min                               115.000000  1979.000000  \n",
       "25%                               133.500000  1988.500000  \n",
       "50%                               155.000000  1998.000000  \n",
       "75%                               188.000000  2007.500000  \n",
       "max                               213.000000  2017.000000  "
      ]
     },
     "execution_count": 67,
     "metadata": {},
     "output_type": "execute_result"
    }
   ],
   "source": [
    "water.describe()"
   ]
  },
  {
   "cell_type": "code",
   "execution_count": 72,
   "metadata": {},
   "outputs": [],
   "source": [
    "water_2c = water[['year','nyc_consumption_million_gallons_per_day' ]]"
   ]
  },
  {
   "cell_type": "code",
   "execution_count": 73,
   "metadata": {},
   "outputs": [
    {
     "data": {
      "text/html": [
       "<div>\n",
       "<table border=\"1\" class=\"dataframe\">\n",
       "  <thead>\n",
       "    <tr style=\"text-align: right;\">\n",
       "      <th></th>\n",
       "      <th>year</th>\n",
       "      <th>nyc_consumption_million_gallons_per_day</th>\n",
       "    </tr>\n",
       "  </thead>\n",
       "  <tbody>\n",
       "    <tr>\n",
       "      <th>0</th>\n",
       "      <td>1979</td>\n",
       "      <td>1512.0</td>\n",
       "    </tr>\n",
       "    <tr>\n",
       "      <th>1</th>\n",
       "      <td>1980</td>\n",
       "      <td>1506.0</td>\n",
       "    </tr>\n",
       "    <tr>\n",
       "      <th>2</th>\n",
       "      <td>1981</td>\n",
       "      <td>1309.0</td>\n",
       "    </tr>\n",
       "    <tr>\n",
       "      <th>3</th>\n",
       "      <td>1982</td>\n",
       "      <td>1382.0</td>\n",
       "    </tr>\n",
       "    <tr>\n",
       "      <th>4</th>\n",
       "      <td>1983</td>\n",
       "      <td>1424.0</td>\n",
       "    </tr>\n",
       "  </tbody>\n",
       "</table>\n",
       "</div>"
      ],
      "text/plain": [
       "   year  nyc_consumption_million_gallons_per_day\n",
       "0  1979                                   1512.0\n",
       "1  1980                                   1506.0\n",
       "2  1981                                   1309.0\n",
       "3  1982                                   1382.0\n",
       "4  1983                                   1424.0"
      ]
     },
     "execution_count": 73,
     "metadata": {},
     "output_type": "execute_result"
    }
   ],
   "source": [
    "water_2c.head()"
   ]
  },
  {
   "cell_type": "code",
   "execution_count": 74,
   "metadata": {},
   "outputs": [
    {
     "data": {
      "text/html": [
       "<div>\n",
       "<table border=\"1\" class=\"dataframe\">\n",
       "  <thead>\n",
       "    <tr style=\"text-align: right;\">\n",
       "      <th></th>\n",
       "      <th>year</th>\n",
       "      <th>water_cons</th>\n",
       "    </tr>\n",
       "  </thead>\n",
       "  <tbody>\n",
       "    <tr>\n",
       "      <th>0</th>\n",
       "      <td>1979</td>\n",
       "      <td>1512.0</td>\n",
       "    </tr>\n",
       "    <tr>\n",
       "      <th>1</th>\n",
       "      <td>1980</td>\n",
       "      <td>1506.0</td>\n",
       "    </tr>\n",
       "    <tr>\n",
       "      <th>2</th>\n",
       "      <td>1981</td>\n",
       "      <td>1309.0</td>\n",
       "    </tr>\n",
       "    <tr>\n",
       "      <th>3</th>\n",
       "      <td>1982</td>\n",
       "      <td>1382.0</td>\n",
       "    </tr>\n",
       "    <tr>\n",
       "      <th>4</th>\n",
       "      <td>1983</td>\n",
       "      <td>1424.0</td>\n",
       "    </tr>\n",
       "  </tbody>\n",
       "</table>\n",
       "</div>"
      ],
      "text/plain": [
       "   year  water_cons\n",
       "0  1979      1512.0\n",
       "1  1980      1506.0\n",
       "2  1981      1309.0\n",
       "3  1982      1382.0\n",
       "4  1983      1424.0"
      ]
     },
     "execution_count": 74,
     "metadata": {},
     "output_type": "execute_result"
    }
   ],
   "source": [
    "water2c = water_2c.rename(index=str, columns={\"nyc_consumption_million_gallons_per_day\":\"water_cons\"})\n",
    "water2c.head()"
   ]
  },
  {
   "cell_type": "code",
   "execution_count": 75,
   "metadata": {},
   "outputs": [
    {
     "data": {
      "text/html": [
       "<div>\n",
       "<table border=\"1\" class=\"dataframe\">\n",
       "  <thead>\n",
       "    <tr style=\"text-align: right;\">\n",
       "      <th></th>\n",
       "      <th>year</th>\n",
       "      <th>water_cons</th>\n",
       "    </tr>\n",
       "  </thead>\n",
       "  <tbody>\n",
       "    <tr>\n",
       "      <th>0</th>\n",
       "      <td>1979</td>\n",
       "      <td>1512.0</td>\n",
       "    </tr>\n",
       "    <tr>\n",
       "      <th>1</th>\n",
       "      <td>1980</td>\n",
       "      <td>1506.0</td>\n",
       "    </tr>\n",
       "    <tr>\n",
       "      <th>2</th>\n",
       "      <td>1981</td>\n",
       "      <td>1309.0</td>\n",
       "    </tr>\n",
       "    <tr>\n",
       "      <th>3</th>\n",
       "      <td>1982</td>\n",
       "      <td>1382.0</td>\n",
       "    </tr>\n",
       "    <tr>\n",
       "      <th>4</th>\n",
       "      <td>1983</td>\n",
       "      <td>1424.0</td>\n",
       "    </tr>\n",
       "  </tbody>\n",
       "</table>\n",
       "</div>"
      ],
      "text/plain": [
       "   year  water_cons\n",
       "0  1979      1512.0\n",
       "1  1980      1506.0\n",
       "2  1981      1309.0\n",
       "3  1982      1382.0\n",
       "4  1983      1424.0"
      ]
     },
     "execution_count": 75,
     "metadata": {},
     "output_type": "execute_result"
    }
   ],
   "source": [
    "water2c.head()"
   ]
  },
  {
   "cell_type": "code",
   "execution_count": 79,
   "metadata": {},
   "outputs": [
    {
     "data": {
      "text/plain": [
       "Text(0.5,1,'Water Consumption Trend')"
      ]
     },
     "execution_count": 79,
     "metadata": {},
     "output_type": "execute_result"
    },
    {
     "name": "stderr",
     "output_type": "stream",
     "text": [
      "/usr/local/Anaconda3-5.0.0-Linux-x86_64/envs/PUI2016_Python3/lib/python3.5/site-packages/matplotlib/font_manager.py:1316: UserWarning: findfont: Font family ['sans-serif'] not found. Falling back to DejaVu Sans\n",
      "  (prop.get_family(), self.defaultFamily[fontext]))\n"
     ]
    },
    {
     "data": {
      "image/png": "[encoded data removed]",
      "text/plain": [
       "<matplotlib.figure.Figure at 0x7fc99c2a3128>"
      ]
     },
     "metadata": {},
     "output_type": "display_data"
    }
   ],
   "source": [
    "plt.figure(figsize=(15,10))\n",
    "plt.plot('year','water_cons', 'o', data=water2c)\n",
    "\n",
    "plt.xlabel('Year',size=18)\n",
    "plt.ylabel('Water Consumption(millions gallons per day)',size=18)\n",
    "plt.title('Water Consumption Trend', size=18)"
   ]
  },
  {
   "cell_type": "markdown",
   "metadata": {},
   "source": [
    "Figure 1: water consumption in NYC from 1979 to 2017 as reported by the Department of Environmental Protection (DEP). The water consumption per day has decreased by the year."
   ]
  },
  {
   "cell_type": "markdown",
   "metadata": {},
   "source": [
    "# Extra Credit Assignment\n",
    "- This is Extra Credit Assignment"
   ]
  },
  {
   "cell_type": "code",
   "execution_count": 30,
   "metadata": {},
   "outputs": [
    {
     "data": {
      "text/html": [
       "<div>\n",
       "<table border=\"1\" class=\"dataframe\">\n",
       "  <thead>\n",
       "    <tr style=\"text-align: right;\">\n",
       "      <th></th>\n",
       "      <th>building_address_unit</th>\n",
       "      <th>business_building</th>\n",
       "      <th>business_city</th>\n",
       "      <th>business_name</th>\n",
       "      <th>business_state</th>\n",
       "      <th>business_street</th>\n",
       "      <th>business_zip</th>\n",
       "      <th>complainant_zip</th>\n",
       "      <th>complaint_result</th>\n",
       "      <th>complaint_type</th>\n",
       "      <th>industry</th>\n",
       "      <th>latitude</th>\n",
       "      <th>longitude</th>\n",
       "      <th>mediation_close_date</th>\n",
       "      <th>mediation_start_date</th>\n",
       "      <th>restitution</th>\n",
       "      <th>satisfaction</th>\n",
       "    </tr>\n",
       "  </thead>\n",
       "  <tbody>\n",
       "    <tr>\n",
       "      <th>0</th>\n",
       "      <td>NaN</td>\n",
       "      <td>2768</td>\n",
       "      <td>BRONX</td>\n",
       "      <td>RIVERDALE TOWING ASSOCIATES LLC</td>\n",
       "      <td>NY</td>\n",
       "      <td>WEBSTER AVE</td>\n",
       "      <td>10458.0</td>\n",
       "      <td>10471</td>\n",
       "      <td>Cash Amount - AMT</td>\n",
       "      <td>NaN</td>\n",
       "      <td>Tow Truck Company - 124</td>\n",
       "      <td>NaN</td>\n",
       "      <td>NaN</td>\n",
       "      <td>2017-01-12T00:00:00.000</td>\n",
       "      <td>2016-12-15T00:00:00.000</td>\n",
       "      <td>54</td>\n",
       "      <td>Yes</td>\n",
       "    </tr>\n",
       "    <tr>\n",
       "      <th>1</th>\n",
       "      <td>NaN</td>\n",
       "      <td>617</td>\n",
       "      <td>BROOKLYN</td>\n",
       "      <td>GUDZON TV</td>\n",
       "      <td>NY</td>\n",
       "      <td>BRIGHTON BEACH AVE</td>\n",
       "      <td>11235.0</td>\n",
       "      <td>11235</td>\n",
       "      <td>Complaint Invalid - CIN</td>\n",
       "      <td>Misrepresentation - M01</td>\n",
       "      <td>Other</td>\n",
       "      <td>NaN</td>\n",
       "      <td>NaN</td>\n",
       "      <td>2018-01-09T00:00:00.000</td>\n",
       "      <td>2018-01-03T00:00:00.000</td>\n",
       "      <td>0</td>\n",
       "      <td>NA</td>\n",
       "    </tr>\n",
       "    <tr>\n",
       "      <th>2</th>\n",
       "      <td>NaN</td>\n",
       "      <td>11548</td>\n",
       "      <td>JAMAICA</td>\n",
       "      <td>BIG APPLE PAWNBROKERS, LLC</td>\n",
       "      <td>NY</td>\n",
       "      <td>SUTPHIN BLVD</td>\n",
       "      <td>11434.0</td>\n",
       "      <td>11434</td>\n",
       "      <td>Advised to Sue - ATS</td>\n",
       "      <td>Non-Delivery of Goods - N01</td>\n",
       "      <td>Pawnbroker - 080</td>\n",
       "      <td>40.683506</td>\n",
       "      <td>-73.792594</td>\n",
       "      <td>2017-01-10T00:00:00.000</td>\n",
       "      <td>2017-01-04T00:00:00.000</td>\n",
       "      <td>0</td>\n",
       "      <td>No</td>\n",
       "    </tr>\n",
       "    <tr>\n",
       "      <th>3</th>\n",
       "      <td>NaN</td>\n",
       "      <td>351.5-376</td>\n",
       "      <td>NEW YORK</td>\n",
       "      <td>PATRIOT PARKING LLC</td>\n",
       "      <td>NY</td>\n",
       "      <td>GREENWICH ST</td>\n",
       "      <td>10013.0</td>\n",
       "      <td>10036</td>\n",
       "      <td>Cash Amount - AMT</td>\n",
       "      <td>Advertising/General - A01</td>\n",
       "      <td>Garage - 049</td>\n",
       "      <td>40.718630</td>\n",
       "      <td>-74.010422</td>\n",
       "      <td>2017-01-10T00:00:00.000</td>\n",
       "      <td>2016-12-20T00:00:00.000</td>\n",
       "      <td>39</td>\n",
       "      <td>Yes</td>\n",
       "    </tr>\n",
       "    <tr>\n",
       "      <th>4</th>\n",
       "      <td>NaN</td>\n",
       "      <td>439</td>\n",
       "      <td>GARDEN CITY</td>\n",
       "      <td>PROFESSIONAL CLAIMS BUREAU, INC.</td>\n",
       "      <td>NY</td>\n",
       "      <td>OAK ST</td>\n",
       "      <td>11530.0</td>\n",
       "      <td>11423</td>\n",
       "      <td>Resolved and Consumer Satisfied - SPF</td>\n",
       "      <td>Harassment - H01</td>\n",
       "      <td>Debt Collection Agency - 122</td>\n",
       "      <td>NaN</td>\n",
       "      <td>NaN</td>\n",
       "      <td>2017-01-10T00:00:00.000</td>\n",
       "      <td>2016-12-16T00:00:00.000</td>\n",
       "      <td>0</td>\n",
       "      <td>Yes</td>\n",
       "    </tr>\n",
       "    <tr>\n",
       "      <th>5</th>\n",
       "      <td>NaN</td>\n",
       "      <td>229</td>\n",
       "      <td>BROOKLYN</td>\n",
       "      <td>JENNIFER CONVERTIBLES, INC.</td>\n",
       "      <td>NY</td>\n",
       "      <td>LIVINGSTON ST</td>\n",
       "      <td>11201.0</td>\n",
       "      <td>10456</td>\n",
       "      <td>Goods Exchanged - GEX</td>\n",
       "      <td>Breach of Warranty - B04</td>\n",
       "      <td>Furniture Sales - 242</td>\n",
       "      <td>40.859972</td>\n",
       "      <td>-73.898473</td>\n",
       "      <td>2017-01-11T00:00:00.000</td>\n",
       "      <td>2016-12-28T00:00:00.000</td>\n",
       "      <td>770</td>\n",
       "      <td>Yes</td>\n",
       "    </tr>\n",
       "    <tr>\n",
       "      <th>6</th>\n",
       "      <td>NaN</td>\n",
       "      <td>3111</td>\n",
       "      <td>ASTORIA</td>\n",
       "      <td>BOLT PARKING LLC</td>\n",
       "      <td>NY</td>\n",
       "      <td>20TH AVE</td>\n",
       "      <td>11105.0</td>\n",
       "      <td>06470</td>\n",
       "      <td>Cash Amount - AMT</td>\n",
       "      <td>Damaged Goods - D01</td>\n",
       "      <td>Garage - 049</td>\n",
       "      <td>40.779526</td>\n",
       "      <td>-73.906001</td>\n",
       "      <td>2018-01-09T00:00:00.000</td>\n",
       "      <td>2017-12-15T00:00:00.000</td>\n",
       "      <td>700</td>\n",
       "      <td>Yes</td>\n",
       "    </tr>\n",
       "    <tr>\n",
       "      <th>7</th>\n",
       "      <td>NaN</td>\n",
       "      <td>5815</td>\n",
       "      <td>BROOKLYN</td>\n",
       "      <td>KINGS AUTOSHOW INC.</td>\n",
       "      <td>NY</td>\n",
       "      <td>CHURCH AVE</td>\n",
       "      <td>11203.0</td>\n",
       "      <td>11214</td>\n",
       "      <td>Resolved and Consumer Satisfied - SPF</td>\n",
       "      <td>Billing Dispute - B02</td>\n",
       "      <td>Secondhand Dealer Auto - 005</td>\n",
       "      <td>40.652504</td>\n",
       "      <td>-73.921406</td>\n",
       "      <td>2017-01-09T00:00:00.000</td>\n",
       "      <td>2016-12-06T00:00:00.000</td>\n",
       "      <td>0</td>\n",
       "      <td>Yes</td>\n",
       "    </tr>\n",
       "  </tbody>\n",
       "</table>\n",
       "</div>"
      ],
      "text/plain": [
       "  building_address_unit business_building business_city  \\\n",
       "0                   NaN              2768         BRONX   \n",
       "1                   NaN               617      BROOKLYN   \n",
       "2                   NaN             11548       JAMAICA   \n",
       "3                   NaN         351.5-376      NEW YORK   \n",
       "4                   NaN               439   GARDEN CITY   \n",
       "5                   NaN               229      BROOKLYN   \n",
       "6                   NaN              3111       ASTORIA   \n",
       "7                   NaN              5815      BROOKLYN   \n",
       "\n",
       "                      business_name business_state     business_street  \\\n",
       "0   RIVERDALE TOWING ASSOCIATES LLC             NY         WEBSTER AVE   \n",
       "1                         GUDZON TV             NY  BRIGHTON BEACH AVE   \n",
       "2        BIG APPLE PAWNBROKERS, LLC             NY        SUTPHIN BLVD   \n",
       "3               PATRIOT PARKING LLC             NY        GREENWICH ST   \n",
       "4  PROFESSIONAL CLAIMS BUREAU, INC.             NY              OAK ST   \n",
       "5       JENNIFER CONVERTIBLES, INC.             NY       LIVINGSTON ST   \n",
       "6                  BOLT PARKING LLC             NY            20TH AVE   \n",
       "7               KINGS AUTOSHOW INC.             NY          CHURCH AVE   \n",
       "\n",
       "   business_zip complainant_zip                       complaint_result  \\\n",
       "0       10458.0           10471                      Cash Amount - AMT   \n",
       "1       11235.0           11235                Complaint Invalid - CIN   \n",
       "2       11434.0           11434                   Advised to Sue - ATS   \n",
       "3       10013.0           10036                      Cash Amount - AMT   \n",
       "4       11530.0           11423  Resolved and Consumer Satisfied - SPF   \n",
       "5       11201.0           10456                  Goods Exchanged - GEX   \n",
       "6       11105.0           06470                      Cash Amount - AMT   \n",
       "7       11203.0           11214  Resolved and Consumer Satisfied - SPF   \n",
       "\n",
       "                complaint_type                      industry   latitude  \\\n",
       "0                          NaN       Tow Truck Company - 124        NaN   \n",
       "1      Misrepresentation - M01                         Other        NaN   \n",
       "2  Non-Delivery of Goods - N01              Pawnbroker - 080  40.683506   \n",
       "3    Advertising/General - A01                  Garage - 049  40.718630   \n",
       "4             Harassment - H01  Debt Collection Agency - 122        NaN   \n",
       "5     Breach of Warranty - B04         Furniture Sales - 242  40.859972   \n",
       "6          Damaged Goods - D01                  Garage - 049  40.779526   \n",
       "7        Billing Dispute - B02  Secondhand Dealer Auto - 005  40.652504   \n",
       "\n",
       "   longitude     mediation_close_date     mediation_start_date  restitution  \\\n",
       "0        NaN  2017-01-12T00:00:00.000  2016-12-15T00:00:00.000           54   \n",
       "1        NaN  2018-01-09T00:00:00.000  2018-01-03T00:00:00.000            0   \n",
       "2 -73.792594  2017-01-10T00:00:00.000  2017-01-04T00:00:00.000            0   \n",
       "3 -74.010422  2017-01-10T00:00:00.000  2016-12-20T00:00:00.000           39   \n",
       "4        NaN  2017-01-10T00:00:00.000  2016-12-16T00:00:00.000            0   \n",
       "5 -73.898473  2017-01-11T00:00:00.000  2016-12-28T00:00:00.000          770   \n",
       "6 -73.906001  2018-01-09T00:00:00.000  2017-12-15T00:00:00.000          700   \n",
       "7 -73.921406  2017-01-09T00:00:00.000  2016-12-06T00:00:00.000            0   \n",
       "\n",
       "  satisfaction  \n",
       "0          Yes  \n",
       "1           NA  \n",
       "2           No  \n",
       "3          Yes  \n",
       "4          Yes  \n",
       "5          Yes  \n",
       "6          Yes  \n",
       "7          Yes  "
      ]
     },
     "execution_count": 30,
     "metadata": {},
     "output_type": "execute_result"
    }
   ],
   "source": [
    "url2 = \"https://data.cityofnewyork.us/resource/6p9j-x485.json\"\n",
    "df = pd.read_json(url2)\n",
    "df.head(8)"
   ]
  },
  {
   "cell_type": "code",
   "execution_count": 56,
   "metadata": {},
   "outputs": [],
   "source": [
    "df_3c = df[['mediation_start_date','restitution']]\n",
    "df_3c = df_3c.rename(index=str, columns={'mediation_start_date':'Mediation Start Date','restitution':'Restitution'})\n",
    "df_3c[\"Mediation Start Date\"] = df_3c[\"Mediation Start Date\"].apply(lambda x: pd.Timestamp(x))"
   ]
  },
  {
   "cell_type": "code",
   "execution_count": 57,
   "metadata": {},
   "outputs": [
    {
     "data": {
      "text/html": [
       "<div>\n",
       "<table border=\"1\" class=\"dataframe\">\n",
       "  <thead>\n",
       "    <tr style=\"text-align: right;\">\n",
       "      <th></th>\n",
       "      <th>Mediation Start Date</th>\n",
       "      <th>Restitution</th>\n",
       "    </tr>\n",
       "  </thead>\n",
       "  <tbody>\n",
       "    <tr>\n",
       "      <th>0</th>\n",
       "      <td>2016-12-15</td>\n",
       "      <td>54</td>\n",
       "    </tr>\n",
       "    <tr>\n",
       "      <th>1</th>\n",
       "      <td>2018-01-03</td>\n",
       "      <td>0</td>\n",
       "    </tr>\n",
       "    <tr>\n",
       "      <th>2</th>\n",
       "      <td>2017-01-04</td>\n",
       "      <td>0</td>\n",
       "    </tr>\n",
       "    <tr>\n",
       "      <th>3</th>\n",
       "      <td>2016-12-20</td>\n",
       "      <td>39</td>\n",
       "    </tr>\n",
       "    <tr>\n",
       "      <th>4</th>\n",
       "      <td>2016-12-16</td>\n",
       "      <td>0</td>\n",
       "    </tr>\n",
       "  </tbody>\n",
       "</table>\n",
       "</div>"
      ],
      "text/plain": [
       "  Mediation Start Date  Restitution\n",
       "0           2016-12-15           54\n",
       "1           2018-01-03            0\n",
       "2           2017-01-04            0\n",
       "3           2016-12-20           39\n",
       "4           2016-12-16            0"
      ]
     },
     "execution_count": 57,
     "metadata": {},
     "output_type": "execute_result"
    }
   ],
   "source": [
    "df_3c.head()"
   ]
  },
  {
   "cell_type": "code",
   "execution_count": 59,
   "metadata": {},
   "outputs": [
    {
     "data": {
      "text/plain": [
       "Text(0.5,1,'The time Plot')"
      ]
     },
     "execution_count": 59,
     "metadata": {},
     "output_type": "execute_result"
    },
    {
     "name": "stderr",
     "output_type": "stream",
     "text": [
      "/usr/local/Anaconda3-5.0.0-Linux-x86_64/envs/PUI2016_Python3/lib/python3.5/site-packages/matplotlib/font_manager.py:1316: UserWarning: findfont: Font family ['sans-serif'] not found. Falling back to DejaVu Sans\n",
      "  (prop.get_family(), self.defaultFamily[fontext]))\n"
     ]
    },
    {
     "data": {
      "image/png": "[encoded data removed]",
      "text/plain": [
       "<matplotlib.figure.Figure at 0x7fc99c183eb8>"
      ]
     },
     "metadata": {},
     "output_type": "display_data"
    }
   ],
   "source": [
    "df_3c.plot(x='Mediation Start Date', y='Restitution')\n",
    "plt.xlabel('Mediation Start Date',size=18)\n",
    "plt.ylabel('Restitution',size=18)\n",
    "plt.title('The time Plot', size=18)"
   ]
  },
  {
   "cell_type": "markdown",
   "metadata": {},
   "source": [
    "Figure 2: The Chart of Mediation Start Date and Restitution from 12/2016 to 04/2018. It is believed that there is no relationships between two variables. "
   ]
  }
 ],
 "metadata": {
  "kernelspec": {
   "display_name": "PUI2016_Python3",
   "language": "python",
   "name": "pui2016_python3"
  },
  "language_info": {
   "codemirror_mode": {
    "name": "ipython",
    "version": 3
   },
   "file_extension": ".py",
   "mimetype": "text/x-python",
   "name": "python",
   "nbconvert_exporter": "python",
   "pygments_lexer": "ipython3",
   "version": "3.5.4"
  }
 },
 "nbformat": 4,
 "nbformat_minor": 2
}
