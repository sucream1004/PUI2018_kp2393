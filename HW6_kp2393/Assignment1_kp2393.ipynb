{
 "cells": [
  {
   "cell_type": "markdown",
   "metadata": {
    "run_control": {
     "frozen": false,
     "read_only": false
    }
   },
   "source": [
    "# exercise with pandas\n",
    "\n",
    "every \"...\" should be replaced with a line of code"
   ]
  },
  {
   "cell_type": "code",
   "execution_count": 2,
   "metadata": {
    "ExecuteTime": {
     "end_time": "2018-10-04T02:23:56.093901Z",
     "start_time": "2018-10-04T02:23:55.338254Z"
    },
    "run_control": {
     "frozen": false,
     "read_only": false
    }
   },
   "outputs": [],
   "source": [
    "import pandas as pd\n",
    "import os"
   ]
  },
  {
   "cell_type": "markdown",
   "metadata": {
    "run_control": {
     "frozen": false,
     "read_only": false
    }
   },
   "source": [
    "Read what the PLUTO data is [here](https://www.wired.com/2013/08/nyc-pluto-data-map-party/)\n",
    "\n",
    "Find the PLUTO dataset online, find the csv file data (not the shape file), it should be about 46M\n",
    "\n",
    "Download it as a zip file, unpack it in PUIDATAEach borough will be in a different file. The goal is to find land plot categories of which there is a higher number in Manhattan (MN) than in Brooklyn (BK)\n",
    "\n",
    "Read in csv data as pandas dataframes (with pd.read_csv() )\n",
    "\n",
    "In a Pandas DataFrame each column is a _series_ (a pandas datatype) to manipulate the data here you will mostly use methods (functions that are defined for a specific datatype and invoked with the _object.method()_ syntax) of the DataFrames (e.g. df.groupby() ) or of the series therein (e.g. series.astype() )"
   ]
  },
  {
   "cell_type": "code",
   "execution_count": 3,
   "metadata": {},
   "outputs": [
    {
     "name": "stdout",
     "output_type": "stream",
     "text": [
      "/nfshome/kp2393/PUIdata\n"
     ]
    }
   ],
   "source": [
    "PUIdata = os.getenv('PUIDATA')\n",
    "print (PUIdata)"
   ]
  },
  {
   "cell_type": "code",
   "execution_count": 4,
   "metadata": {},
   "outputs": [
    {
     "data": {
      "text/plain": [
       "['PLUTODD18v1.pdf', 'PlutoReadme18v1.pdf']"
      ]
     },
     "execution_count": 4,
     "metadata": {},
     "output_type": "execute_result"
    }
   ],
   "source": [
    "os.listdir(PUIdata + \"/PLUTO_for_WEB\")"
   ]
  },
  {
   "cell_type": "code",
   "execution_count": 8,
   "metadata": {},
   "outputs": [
    {
     "data": {
      "text/plain": [
       "2304"
      ]
     },
     "execution_count": 8,
     "metadata": {},
     "output_type": "execute_result"
    }
   ],
   "source": [
    "os.system(\"curl -O https://www1.nyc.gov/assets/planning/download/zip/data-maps/open-data/nyc_pluto_18v1.zip\")\n",
    "os.system(\"mv nyc_pluto_18v1.zip \" + PUIdata)\n",
    "os.system(\"unzip \" + PUIdata + \"nyc_pluto_18v1.zip\")\n",
    "!mkdir $PUIDATA/BX $PUIDATA/BK $PUIDATA/SI $PUIDATA/QN $PUIDATA/MN\n",
    "!mv $PUIDATA/PLUTO_for_WEB/BX*.csv $PUIDATA/BX\n",
    "!mv $PUIDATA/PLUTO_for_WEB/BK*.csv $PUIDATA/BK\n",
    "!mv $PUIDATA/PLUTO_for_WEB/SI*.csv $PUIDATA/SI\n",
    "!mv $PUIDATA/PLUTO_for_WEB/QN*.csv $PUIDATA/QN\n",
    "!mv $PUIDATA/PLUTO_for_WEB/MN*.csv $PUIDATA/MN"
   ]
  },
  {
   "cell_type": "markdown",
   "metadata": {
    "run_control": {
     "frozen": false,
     "read_only": false
    }
   },
   "source": [
    "# read in te Manhattan and Brooklyn data in 2 separate dataframes w pandas"
   ]
  },
  {
   "cell_type": "markdown",
   "metadata": {
    "ExecuteTime": {
     "end_time": "2018-10-03T05:19:13.282296Z",
     "start_time": "2018-10-03T05:19:13.275852Z"
    },
    "run_control": {
     "frozen": false,
     "read_only": false
    }
   },
   "source": [
    "## show the first 10 lines of each df"
   ]
  },
  {
   "cell_type": "code",
   "execution_count": 5,
   "metadata": {},
   "outputs": [],
   "source": [
    "brs = [\"BX\", \"BK\", \"SI\", \"QN\", \"MN\"]\n",
    "dfs = []"
   ]
  },
  {
   "cell_type": "code",
   "execution_count": 6,
   "metadata": {},
   "outputs": [
    {
     "name": "stderr",
     "output_type": "stream",
     "text": [
      "/usr/local/Anaconda3-5.0.0-Linux-x86_64/envs/PUI2016_Python3/lib/python3.5/site-packages/IPython/core/interactiveshell.py:2717: DtypeWarning: Columns (19,20,22,23,64,65,80) have mixed types. Specify dtype option on import or set low_memory=False.\n",
      "  interactivity=interactivity, compiler=compiler, result=result)\n",
      "/usr/local/Anaconda3-5.0.0-Linux-x86_64/envs/PUI2016_Python3/lib/python3.5/site-packages/IPython/core/interactiveshell.py:2717: DtypeWarning: Columns (19,20,22,23,24,25,26,64,65,80) have mixed types. Specify dtype option on import or set low_memory=False.\n",
      "  interactivity=interactivity, compiler=compiler, result=result)\n",
      "/usr/local/Anaconda3-5.0.0-Linux-x86_64/envs/PUI2016_Python3/lib/python3.5/site-packages/IPython/core/interactiveshell.py:2717: DtypeWarning: Columns (19,20,22,23,24,64,65,80) have mixed types. Specify dtype option on import or set low_memory=False.\n",
      "  interactivity=interactivity, compiler=compiler, result=result)\n",
      "/usr/local/Anaconda3-5.0.0-Linux-x86_64/envs/PUI2016_Python3/lib/python3.5/site-packages/IPython/core/interactiveshell.py:2717: DtypeWarning: Columns (19,20,22,23,64,65,77) have mixed types. Specify dtype option on import or set low_memory=False.\n",
      "  interactivity=interactivity, compiler=compiler, result=result)\n",
      "/usr/local/Anaconda3-5.0.0-Linux-x86_64/envs/PUI2016_Python3/lib/python3.5/site-packages/IPython/core/interactiveshell.py:2717: DtypeWarning: Columns (20,23,24,26,64) have mixed types. Specify dtype option on import or set low_memory=False.\n",
      "  interactivity=interactivity, compiler=compiler, result=result)\n"
     ]
    }
   ],
   "source": [
    "for br,i in zip(brs,range(0,5)):\n",
    "    dfs.append(pd.read_csv(PUIdata + '/' + br + '/' + br + '_18v1.csv'))"
   ]
  },
  {
   "cell_type": "code",
   "execution_count": 7,
   "metadata": {
    "ExecuteTime": {
     "end_time": "2018-10-03T05:21:12.960779Z",
     "start_time": "2018-10-03T05:21:12.876994Z"
    },
    "run_control": {
     "frozen": false,
     "read_only": false
    }
   },
   "outputs": [
    {
     "data": {
      "text/html": [
       "<div>\n",
       "<table border=\"1\" class=\"dataframe\">\n",
       "  <thead>\n",
       "    <tr style=\"text-align: right;\">\n",
       "      <th></th>\n",
       "      <th>Borough</th>\n",
       "      <th>Block</th>\n",
       "      <th>Lot</th>\n",
       "      <th>CD</th>\n",
       "      <th>CT2010</th>\n",
       "      <th>CB2010</th>\n",
       "      <th>SchoolDist</th>\n",
       "      <th>Council</th>\n",
       "      <th>ZipCode</th>\n",
       "      <th>FireComp</th>\n",
       "      <th>...</th>\n",
       "      <th>ZMCode</th>\n",
       "      <th>Sanborn</th>\n",
       "      <th>TaxMap</th>\n",
       "      <th>EDesigNum</th>\n",
       "      <th>APPBBL</th>\n",
       "      <th>APPDate</th>\n",
       "      <th>PLUTOMapID</th>\n",
       "      <th>FIRM07_Flag</th>\n",
       "      <th>PFIRM15_Flag</th>\n",
       "      <th>Version</th>\n",
       "    </tr>\n",
       "  </thead>\n",
       "  <tbody>\n",
       "    <tr>\n",
       "      <th>0</th>\n",
       "      <td>MN</td>\n",
       "      <td>1</td>\n",
       "      <td>10</td>\n",
       "      <td>101</td>\n",
       "      <td>5.0</td>\n",
       "      <td>1011.0</td>\n",
       "      <td>2.0</td>\n",
       "      <td>1.0</td>\n",
       "      <td>10004.0</td>\n",
       "      <td>E007</td>\n",
       "      <td>...</td>\n",
       "      <td>Y</td>\n",
       "      <td>199 999</td>\n",
       "      <td>10101.0</td>\n",
       "      <td>NaN</td>\n",
       "      <td>0.000000e+00</td>\n",
       "      <td>NaN</td>\n",
       "      <td>1</td>\n",
       "      <td>1.0</td>\n",
       "      <td>1.0</td>\n",
       "      <td>18V1</td>\n",
       "    </tr>\n",
       "    <tr>\n",
       "      <th>1</th>\n",
       "      <td>MN</td>\n",
       "      <td>1</td>\n",
       "      <td>101</td>\n",
       "      <td>101</td>\n",
       "      <td>1.0</td>\n",
       "      <td>1001.0</td>\n",
       "      <td>2.0</td>\n",
       "      <td>1.0</td>\n",
       "      <td>10004.0</td>\n",
       "      <td>E007</td>\n",
       "      <td>...</td>\n",
       "      <td>Y</td>\n",
       "      <td>199 999</td>\n",
       "      <td>10101.0</td>\n",
       "      <td>NaN</td>\n",
       "      <td>0.000000e+00</td>\n",
       "      <td>NaN</td>\n",
       "      <td>1</td>\n",
       "      <td>NaN</td>\n",
       "      <td>1.0</td>\n",
       "      <td>18V1</td>\n",
       "    </tr>\n",
       "    <tr>\n",
       "      <th>2</th>\n",
       "      <td>MN</td>\n",
       "      <td>1</td>\n",
       "      <td>201</td>\n",
       "      <td>101</td>\n",
       "      <td>1.0</td>\n",
       "      <td>1000.0</td>\n",
       "      <td>2.0</td>\n",
       "      <td>1.0</td>\n",
       "      <td>10004.0</td>\n",
       "      <td>E007</td>\n",
       "      <td>...</td>\n",
       "      <td>NaN</td>\n",
       "      <td>199 999</td>\n",
       "      <td>10101.0</td>\n",
       "      <td>NaN</td>\n",
       "      <td>0.000000e+00</td>\n",
       "      <td>NaN</td>\n",
       "      <td>1</td>\n",
       "      <td>NaN</td>\n",
       "      <td>1.0</td>\n",
       "      <td>18V1</td>\n",
       "    </tr>\n",
       "    <tr>\n",
       "      <th>3</th>\n",
       "      <td>MN</td>\n",
       "      <td>1</td>\n",
       "      <td>301</td>\n",
       "      <td>101</td>\n",
       "      <td>NaN</td>\n",
       "      <td>NaN</td>\n",
       "      <td>2.0</td>\n",
       "      <td>1.0</td>\n",
       "      <td>10004.0</td>\n",
       "      <td>E007</td>\n",
       "      <td>...</td>\n",
       "      <td>NaN</td>\n",
       "      <td>199 999</td>\n",
       "      <td>10101.0</td>\n",
       "      <td>NaN</td>\n",
       "      <td>0.000000e+00</td>\n",
       "      <td>NaN</td>\n",
       "      <td>4</td>\n",
       "      <td>1.0</td>\n",
       "      <td>1.0</td>\n",
       "      <td>18V1</td>\n",
       "    </tr>\n",
       "    <tr>\n",
       "      <th>4</th>\n",
       "      <td>MN</td>\n",
       "      <td>1</td>\n",
       "      <td>401</td>\n",
       "      <td>101</td>\n",
       "      <td>NaN</td>\n",
       "      <td>NaN</td>\n",
       "      <td>2.0</td>\n",
       "      <td>1.0</td>\n",
       "      <td>10004.0</td>\n",
       "      <td>E007</td>\n",
       "      <td>...</td>\n",
       "      <td>NaN</td>\n",
       "      <td>1 99 999</td>\n",
       "      <td>10101.0</td>\n",
       "      <td>NaN</td>\n",
       "      <td>0.000000e+00</td>\n",
       "      <td>NaN</td>\n",
       "      <td>4</td>\n",
       "      <td>1.0</td>\n",
       "      <td>1.0</td>\n",
       "      <td>18V1</td>\n",
       "    </tr>\n",
       "    <tr>\n",
       "      <th>5</th>\n",
       "      <td>MN</td>\n",
       "      <td>2</td>\n",
       "      <td>1</td>\n",
       "      <td>101</td>\n",
       "      <td>9.0</td>\n",
       "      <td>1025.0</td>\n",
       "      <td>2.0</td>\n",
       "      <td>1.0</td>\n",
       "      <td>10004.0</td>\n",
       "      <td>L015</td>\n",
       "      <td>...</td>\n",
       "      <td>NaN</td>\n",
       "      <td>101N100</td>\n",
       "      <td>10101.0</td>\n",
       "      <td>NaN</td>\n",
       "      <td>1.000020e+09</td>\n",
       "      <td>08/07/2012</td>\n",
       "      <td>1</td>\n",
       "      <td>1.0</td>\n",
       "      <td>1.0</td>\n",
       "      <td>18V1</td>\n",
       "    </tr>\n",
       "    <tr>\n",
       "      <th>6</th>\n",
       "      <td>MN</td>\n",
       "      <td>2</td>\n",
       "      <td>2</td>\n",
       "      <td>101</td>\n",
       "      <td>9.0</td>\n",
       "      <td>1025.0</td>\n",
       "      <td>2.0</td>\n",
       "      <td>1.0</td>\n",
       "      <td>10004.0</td>\n",
       "      <td>L015</td>\n",
       "      <td>...</td>\n",
       "      <td>NaN</td>\n",
       "      <td>11N 100</td>\n",
       "      <td>10101.0</td>\n",
       "      <td>NaN</td>\n",
       "      <td>1.000020e+09</td>\n",
       "      <td>08/07/2012</td>\n",
       "      <td>1</td>\n",
       "      <td>1.0</td>\n",
       "      <td>1.0</td>\n",
       "      <td>18V1</td>\n",
       "    </tr>\n",
       "    <tr>\n",
       "      <th>7</th>\n",
       "      <td>MN</td>\n",
       "      <td>2</td>\n",
       "      <td>3</td>\n",
       "      <td>101</td>\n",
       "      <td>9.0</td>\n",
       "      <td>NaN</td>\n",
       "      <td>2.0</td>\n",
       "      <td>1.0</td>\n",
       "      <td>10004.0</td>\n",
       "      <td>L015</td>\n",
       "      <td>...</td>\n",
       "      <td>NaN</td>\n",
       "      <td>101N100</td>\n",
       "      <td>10101.0</td>\n",
       "      <td>NaN</td>\n",
       "      <td>1.000020e+09</td>\n",
       "      <td>08/07/2012</td>\n",
       "      <td>1</td>\n",
       "      <td>1.0</td>\n",
       "      <td>1.0</td>\n",
       "      <td>18V1</td>\n",
       "    </tr>\n",
       "    <tr>\n",
       "      <th>8</th>\n",
       "      <td>MN</td>\n",
       "      <td>2</td>\n",
       "      <td>23</td>\n",
       "      <td>101</td>\n",
       "      <td>9.0</td>\n",
       "      <td>1025.0</td>\n",
       "      <td>2.0</td>\n",
       "      <td>1.0</td>\n",
       "      <td>10004.0</td>\n",
       "      <td>L015</td>\n",
       "      <td>...</td>\n",
       "      <td>NaN</td>\n",
       "      <td>101N100</td>\n",
       "      <td>10101.0</td>\n",
       "      <td>NaN</td>\n",
       "      <td>0.000000e+00</td>\n",
       "      <td>NaN</td>\n",
       "      <td>1</td>\n",
       "      <td>1.0</td>\n",
       "      <td>1.0</td>\n",
       "      <td>18V1</td>\n",
       "    </tr>\n",
       "    <tr>\n",
       "      <th>9</th>\n",
       "      <td>MN</td>\n",
       "      <td>3</td>\n",
       "      <td>1</td>\n",
       "      <td>101</td>\n",
       "      <td>319.0</td>\n",
       "      <td>1000.0</td>\n",
       "      <td>2.0</td>\n",
       "      <td>1.0</td>\n",
       "      <td>10004.0</td>\n",
       "      <td>L015</td>\n",
       "      <td>...</td>\n",
       "      <td>NaN</td>\n",
       "      <td>101S087</td>\n",
       "      <td>10101.0</td>\n",
       "      <td>NaN</td>\n",
       "      <td>0.000000e+00</td>\n",
       "      <td>NaN</td>\n",
       "      <td>1</td>\n",
       "      <td>1.0</td>\n",
       "      <td>1.0</td>\n",
       "      <td>18V1</td>\n",
       "    </tr>\n",
       "  </tbody>\n",
       "</table>\n",
       "<p>10 rows × 87 columns</p>\n",
       "</div>"
      ],
      "text/plain": [
       "  Borough  Block  Lot   CD  CT2010  CB2010  SchoolDist  Council  ZipCode  \\\n",
       "0      MN      1   10  101     5.0  1011.0         2.0      1.0  10004.0   \n",
       "1      MN      1  101  101     1.0  1001.0         2.0      1.0  10004.0   \n",
       "2      MN      1  201  101     1.0  1000.0         2.0      1.0  10004.0   \n",
       "3      MN      1  301  101     NaN     NaN         2.0      1.0  10004.0   \n",
       "4      MN      1  401  101     NaN     NaN         2.0      1.0  10004.0   \n",
       "5      MN      2    1  101     9.0  1025.0         2.0      1.0  10004.0   \n",
       "6      MN      2    2  101     9.0  1025.0         2.0      1.0  10004.0   \n",
       "7      MN      2    3  101     9.0     NaN         2.0      1.0  10004.0   \n",
       "8      MN      2   23  101     9.0  1025.0         2.0      1.0  10004.0   \n",
       "9      MN      3    1  101   319.0  1000.0         2.0      1.0  10004.0   \n",
       "\n",
       "  FireComp   ...    ZMCode   Sanborn   TaxMap  EDesigNum        APPBBL  \\\n",
       "0     E007   ...         Y   199 999  10101.0        NaN  0.000000e+00   \n",
       "1     E007   ...         Y   199 999  10101.0        NaN  0.000000e+00   \n",
       "2     E007   ...       NaN   199 999  10101.0        NaN  0.000000e+00   \n",
       "3     E007   ...       NaN   199 999  10101.0        NaN  0.000000e+00   \n",
       "4     E007   ...       NaN  1 99 999  10101.0        NaN  0.000000e+00   \n",
       "5     L015   ...       NaN   101N100  10101.0        NaN  1.000020e+09   \n",
       "6     L015   ...       NaN   11N 100  10101.0        NaN  1.000020e+09   \n",
       "7     L015   ...       NaN   101N100  10101.0        NaN  1.000020e+09   \n",
       "8     L015   ...       NaN   101N100  10101.0        NaN  0.000000e+00   \n",
       "9     L015   ...       NaN   101S087  10101.0        NaN  0.000000e+00   \n",
       "\n",
       "      APPDate PLUTOMapID FIRM07_Flag PFIRM15_Flag Version  \n",
       "0         NaN          1         1.0          1.0    18V1  \n",
       "1         NaN          1         NaN          1.0    18V1  \n",
       "2         NaN          1         NaN          1.0    18V1  \n",
       "3         NaN          4         1.0          1.0    18V1  \n",
       "4         NaN          4         1.0          1.0    18V1  \n",
       "5  08/07/2012          1         1.0          1.0    18V1  \n",
       "6  08/07/2012          1         1.0          1.0    18V1  \n",
       "7  08/07/2012          1         1.0          1.0    18V1  \n",
       "8         NaN          1         1.0          1.0    18V1  \n",
       "9         NaN          1         1.0          1.0    18V1  \n",
       "\n",
       "[10 rows x 87 columns]"
      ]
     },
     "execution_count": 7,
     "metadata": {},
     "output_type": "execute_result"
    }
   ],
   "source": [
    "# show manhattan 10 rows\n",
    "dfs[4][:10]"
   ]
  },
  {
   "cell_type": "code",
   "execution_count": 8,
   "metadata": {
    "ExecuteTime": {
     "end_time": "2018-10-03T05:21:13.024006Z",
     "start_time": "2018-10-03T05:21:12.964164Z"
    },
    "run_control": {
     "frozen": false,
     "read_only": false
    }
   },
   "outputs": [
    {
     "data": {
      "text/html": [
       "<div>\n",
       "<table border=\"1\" class=\"dataframe\">\n",
       "  <thead>\n",
       "    <tr style=\"text-align: right;\">\n",
       "      <th></th>\n",
       "      <th>Borough</th>\n",
       "      <th>Block</th>\n",
       "      <th>Lot</th>\n",
       "      <th>CD</th>\n",
       "      <th>CT2010</th>\n",
       "      <th>CB2010</th>\n",
       "      <th>SchoolDist</th>\n",
       "      <th>Council</th>\n",
       "      <th>ZipCode</th>\n",
       "      <th>FireComp</th>\n",
       "      <th>...</th>\n",
       "      <th>ZMCode</th>\n",
       "      <th>Sanborn</th>\n",
       "      <th>TaxMap</th>\n",
       "      <th>EDesigNum</th>\n",
       "      <th>APPBBL</th>\n",
       "      <th>APPDate</th>\n",
       "      <th>PLUTOMapID</th>\n",
       "      <th>FIRM07_FLAG</th>\n",
       "      <th>PFIRM15_FLAG</th>\n",
       "      <th>Version</th>\n",
       "    </tr>\n",
       "  </thead>\n",
       "  <tbody>\n",
       "    <tr>\n",
       "      <th>0</th>\n",
       "      <td>BK</td>\n",
       "      <td>1</td>\n",
       "      <td>1</td>\n",
       "      <td>302</td>\n",
       "      <td>21.0</td>\n",
       "      <td>NaN</td>\n",
       "      <td>13.0</td>\n",
       "      <td>33.0</td>\n",
       "      <td>11201.0</td>\n",
       "      <td>L118</td>\n",
       "      <td>...</td>\n",
       "      <td>NaN</td>\n",
       "      <td>302 007</td>\n",
       "      <td>30101.0</td>\n",
       "      <td>NaN</td>\n",
       "      <td>3.000010e+09</td>\n",
       "      <td>11/26/2013</td>\n",
       "      <td>1</td>\n",
       "      <td>1.0</td>\n",
       "      <td>1.0</td>\n",
       "      <td>18V1</td>\n",
       "    </tr>\n",
       "    <tr>\n",
       "      <th>1</th>\n",
       "      <td>BK</td>\n",
       "      <td>1</td>\n",
       "      <td>50</td>\n",
       "      <td>302</td>\n",
       "      <td>21.0</td>\n",
       "      <td>2000.0</td>\n",
       "      <td>13.0</td>\n",
       "      <td>33.0</td>\n",
       "      <td>11201.0</td>\n",
       "      <td>L118</td>\n",
       "      <td>...</td>\n",
       "      <td>NaN</td>\n",
       "      <td>302 007</td>\n",
       "      <td>30101.0</td>\n",
       "      <td>E-231</td>\n",
       "      <td>0.000000e+00</td>\n",
       "      <td>NaN</td>\n",
       "      <td>1</td>\n",
       "      <td>1.0</td>\n",
       "      <td>1.0</td>\n",
       "      <td>18V1</td>\n",
       "    </tr>\n",
       "    <tr>\n",
       "      <th>2</th>\n",
       "      <td>BK</td>\n",
       "      <td>1</td>\n",
       "      <td>7501</td>\n",
       "      <td>302</td>\n",
       "      <td>21.0</td>\n",
       "      <td>2000.0</td>\n",
       "      <td>13.0</td>\n",
       "      <td>33.0</td>\n",
       "      <td>11201.0</td>\n",
       "      <td>L118</td>\n",
       "      <td>...</td>\n",
       "      <td>NaN</td>\n",
       "      <td>302 007</td>\n",
       "      <td>30101.0</td>\n",
       "      <td>NaN</td>\n",
       "      <td>3.000010e+09</td>\n",
       "      <td>03/04/2016</td>\n",
       "      <td>1</td>\n",
       "      <td>1.0</td>\n",
       "      <td>1.0</td>\n",
       "      <td>18V1</td>\n",
       "    </tr>\n",
       "    <tr>\n",
       "      <th>3</th>\n",
       "      <td>BK</td>\n",
       "      <td>3</td>\n",
       "      <td>1</td>\n",
       "      <td>302</td>\n",
       "      <td>21.0</td>\n",
       "      <td>3002.0</td>\n",
       "      <td>13.0</td>\n",
       "      <td>33.0</td>\n",
       "      <td>11201.0</td>\n",
       "      <td>L118</td>\n",
       "      <td>...</td>\n",
       "      <td>NaN</td>\n",
       "      <td>302 007</td>\n",
       "      <td>30101.0</td>\n",
       "      <td>NaN</td>\n",
       "      <td>0.000000e+00</td>\n",
       "      <td>NaN</td>\n",
       "      <td>1</td>\n",
       "      <td>1.0</td>\n",
       "      <td>1.0</td>\n",
       "      <td>18V1</td>\n",
       "    </tr>\n",
       "    <tr>\n",
       "      <th>4</th>\n",
       "      <td>BK</td>\n",
       "      <td>3</td>\n",
       "      <td>5</td>\n",
       "      <td>302</td>\n",
       "      <td>21.0</td>\n",
       "      <td>NaN</td>\n",
       "      <td>13.0</td>\n",
       "      <td>33.0</td>\n",
       "      <td>11201.0</td>\n",
       "      <td>L118</td>\n",
       "      <td>...</td>\n",
       "      <td>NaN</td>\n",
       "      <td>302 007</td>\n",
       "      <td>30101.0</td>\n",
       "      <td>NaN</td>\n",
       "      <td>0.000000e+00</td>\n",
       "      <td>NaN</td>\n",
       "      <td>4</td>\n",
       "      <td>1.0</td>\n",
       "      <td>1.0</td>\n",
       "      <td>18V1</td>\n",
       "    </tr>\n",
       "    <tr>\n",
       "      <th>5</th>\n",
       "      <td>BK</td>\n",
       "      <td>3</td>\n",
       "      <td>35</td>\n",
       "      <td>302</td>\n",
       "      <td>NaN</td>\n",
       "      <td>NaN</td>\n",
       "      <td>NaN</td>\n",
       "      <td>NaN</td>\n",
       "      <td>NaN</td>\n",
       "      <td>NaN</td>\n",
       "      <td>...</td>\n",
       "      <td>NaN</td>\n",
       "      <td>302 007</td>\n",
       "      <td>3.0</td>\n",
       "      <td>NaN</td>\n",
       "      <td>NaN</td>\n",
       "      <td>NaN</td>\n",
       "      <td>5</td>\n",
       "      <td>NaN</td>\n",
       "      <td>NaN</td>\n",
       "      <td>18V1</td>\n",
       "    </tr>\n",
       "    <tr>\n",
       "      <th>6</th>\n",
       "      <td>BK</td>\n",
       "      <td>5</td>\n",
       "      <td>1</td>\n",
       "      <td>302</td>\n",
       "      <td>21.0</td>\n",
       "      <td>3001.0</td>\n",
       "      <td>13.0</td>\n",
       "      <td>33.0</td>\n",
       "      <td>11201.0</td>\n",
       "      <td>L118</td>\n",
       "      <td>...</td>\n",
       "      <td>NaN</td>\n",
       "      <td>302 008</td>\n",
       "      <td>30101.0</td>\n",
       "      <td>NaN</td>\n",
       "      <td>0.000000e+00</td>\n",
       "      <td>NaN</td>\n",
       "      <td>1</td>\n",
       "      <td>1.0</td>\n",
       "      <td>1.0</td>\n",
       "      <td>18V1</td>\n",
       "    </tr>\n",
       "    <tr>\n",
       "      <th>7</th>\n",
       "      <td>BK</td>\n",
       "      <td>5</td>\n",
       "      <td>8</td>\n",
       "      <td>302</td>\n",
       "      <td>21.0</td>\n",
       "      <td>NaN</td>\n",
       "      <td>13.0</td>\n",
       "      <td>33.0</td>\n",
       "      <td>11201.0</td>\n",
       "      <td>L118</td>\n",
       "      <td>...</td>\n",
       "      <td>NaN</td>\n",
       "      <td>300 000</td>\n",
       "      <td>30101.0</td>\n",
       "      <td>NaN</td>\n",
       "      <td>0.000000e+00</td>\n",
       "      <td>NaN</td>\n",
       "      <td>4</td>\n",
       "      <td>1.0</td>\n",
       "      <td>1.0</td>\n",
       "      <td>18V1</td>\n",
       "    </tr>\n",
       "    <tr>\n",
       "      <th>8</th>\n",
       "      <td>BK</td>\n",
       "      <td>6</td>\n",
       "      <td>1</td>\n",
       "      <td>302</td>\n",
       "      <td>21.0</td>\n",
       "      <td>3000.0</td>\n",
       "      <td>13.0</td>\n",
       "      <td>33.0</td>\n",
       "      <td>11201.0</td>\n",
       "      <td>E207</td>\n",
       "      <td>...</td>\n",
       "      <td>NaN</td>\n",
       "      <td>302 009</td>\n",
       "      <td>30101.0</td>\n",
       "      <td>NaN</td>\n",
       "      <td>0.000000e+00</td>\n",
       "      <td>NaN</td>\n",
       "      <td>1</td>\n",
       "      <td>1.0</td>\n",
       "      <td>1.0</td>\n",
       "      <td>18V1</td>\n",
       "    </tr>\n",
       "    <tr>\n",
       "      <th>9</th>\n",
       "      <td>BK</td>\n",
       "      <td>6</td>\n",
       "      <td>10</td>\n",
       "      <td>302</td>\n",
       "      <td>21.0</td>\n",
       "      <td>NaN</td>\n",
       "      <td>13.0</td>\n",
       "      <td>33.0</td>\n",
       "      <td>11201.0</td>\n",
       "      <td>E207</td>\n",
       "      <td>...</td>\n",
       "      <td>NaN</td>\n",
       "      <td>302 009</td>\n",
       "      <td>30101.0</td>\n",
       "      <td>NaN</td>\n",
       "      <td>0.000000e+00</td>\n",
       "      <td>NaN</td>\n",
       "      <td>1</td>\n",
       "      <td>1.0</td>\n",
       "      <td>1.0</td>\n",
       "      <td>18V1</td>\n",
       "    </tr>\n",
       "  </tbody>\n",
       "</table>\n",
       "<p>10 rows × 87 columns</p>\n",
       "</div>"
      ],
      "text/plain": [
       "  Borough  Block   Lot   CD  CT2010  CB2010  SchoolDist  Council  ZipCode  \\\n",
       "0      BK      1     1  302    21.0     NaN        13.0     33.0  11201.0   \n",
       "1      BK      1    50  302    21.0  2000.0        13.0     33.0  11201.0   \n",
       "2      BK      1  7501  302    21.0  2000.0        13.0     33.0  11201.0   \n",
       "3      BK      3     1  302    21.0  3002.0        13.0     33.0  11201.0   \n",
       "4      BK      3     5  302    21.0     NaN        13.0     33.0  11201.0   \n",
       "5      BK      3    35  302     NaN     NaN         NaN      NaN      NaN   \n",
       "6      BK      5     1  302    21.0  3001.0        13.0     33.0  11201.0   \n",
       "7      BK      5     8  302    21.0     NaN        13.0     33.0  11201.0   \n",
       "8      BK      6     1  302    21.0  3000.0        13.0     33.0  11201.0   \n",
       "9      BK      6    10  302    21.0     NaN        13.0     33.0  11201.0   \n",
       "\n",
       "  FireComp   ...    ZMCode  Sanborn   TaxMap  EDesigNum        APPBBL  \\\n",
       "0     L118   ...       NaN  302 007  30101.0        NaN  3.000010e+09   \n",
       "1     L118   ...       NaN  302 007  30101.0      E-231  0.000000e+00   \n",
       "2     L118   ...       NaN  302 007  30101.0        NaN  3.000010e+09   \n",
       "3     L118   ...       NaN  302 007  30101.0        NaN  0.000000e+00   \n",
       "4     L118   ...       NaN  302 007  30101.0        NaN  0.000000e+00   \n",
       "5      NaN   ...       NaN  302 007      3.0        NaN           NaN   \n",
       "6     L118   ...       NaN  302 008  30101.0        NaN  0.000000e+00   \n",
       "7     L118   ...       NaN  300 000  30101.0        NaN  0.000000e+00   \n",
       "8     E207   ...       NaN  302 009  30101.0        NaN  0.000000e+00   \n",
       "9     E207   ...       NaN  302 009  30101.0        NaN  0.000000e+00   \n",
       "\n",
       "      APPDate PLUTOMapID FIRM07_FLAG PFIRM15_FLAG Version  \n",
       "0  11/26/2013          1         1.0          1.0    18V1  \n",
       "1         NaN          1         1.0          1.0    18V1  \n",
       "2  03/04/2016          1         1.0          1.0    18V1  \n",
       "3         NaN          1         1.0          1.0    18V1  \n",
       "4         NaN          4         1.0          1.0    18V1  \n",
       "5         NaN          5         NaN          NaN    18V1  \n",
       "6         NaN          1         1.0          1.0    18V1  \n",
       "7         NaN          4         1.0          1.0    18V1  \n",
       "8         NaN          1         1.0          1.0    18V1  \n",
       "9         NaN          1         1.0          1.0    18V1  \n",
       "\n",
       "[10 rows x 87 columns]"
      ]
     },
     "execution_count": 8,
     "metadata": {},
     "output_type": "execute_result"
    }
   ],
   "source": [
    "# show brooklyn 10 rows\n",
    "dfs[1][:10]"
   ]
  },
  {
   "cell_type": "markdown",
   "metadata": {
    "run_control": {
     "frozen": false,
     "read_only": false
    }
   },
   "source": [
    "## display all columns in each file"
   ]
  },
  {
   "cell_type": "code",
   "execution_count": 7,
   "metadata": {
    "ExecuteTime": {
     "end_time": "2018-10-03T05:21:13.034672Z",
     "start_time": "2018-10-03T05:21:13.027534Z"
    },
    "run_control": {
     "frozen": false,
     "read_only": false
    }
   },
   "outputs": [
    {
     "data": {
      "text/plain": [
       "Index(['Borough', 'Block', 'Lot', 'CD', 'CT2010', 'CB2010', 'SchoolDist',\n",
       "       'Council', 'ZipCode', 'FireComp', 'PolicePrct', 'HealthCenterDistrict',\n",
       "       'HealthArea', 'SanitBoro', 'SanitDistrict', 'SanitSub', 'Address',\n",
       "       'ZoneDist1', 'ZoneDist2', 'ZoneDist3', 'ZoneDist4', 'Overlay1',\n",
       "       'Overlay2', 'SPDist1', 'SPDist2', 'SPDist3', 'LtdHeight', 'SplitZone',\n",
       "       'BldgClass', 'LandUse', 'Easements', 'OwnerType', 'OwnerName',\n",
       "       'LotArea', 'BldgArea', 'ComArea', 'ResArea', 'OfficeArea', 'RetailArea',\n",
       "       'GarageArea', 'StrgeArea', 'FactryArea', 'OtherArea', 'AreaSource',\n",
       "       'NumBldgs', 'NumFloors', 'UnitsRes', 'UnitsTotal', 'LotFront',\n",
       "       'LotDepth', 'BldgFront', 'BldgDepth', 'Ext', 'ProxCode', 'IrrLotCode',\n",
       "       'LotType', 'BsmtCode', 'AssessLand', 'AssessTot', 'ExemptLand',\n",
       "       'ExemptTot', 'YearBuilt', 'YearAlter1', 'YearAlter2', 'HistDist',\n",
       "       'Landmark', 'BuiltFAR', 'ResidFAR', 'CommFAR', 'FacilFAR', 'BoroCode',\n",
       "       'BBL', 'CondoNo', 'Tract2010', 'XCoord', 'YCoord', 'ZoneMap', 'ZMCode',\n",
       "       'Sanborn', 'TaxMap', 'EDesigNum', 'APPBBL', 'APPDate', 'PLUTOMapID',\n",
       "       'FIRM07_FLAG', 'PFIRM15_FLAG', 'Version'],\n",
       "      dtype='object')"
      ]
     },
     "execution_count": 7,
     "metadata": {},
     "output_type": "execute_result"
    }
   ],
   "source": [
    "# show bk\n",
    "dfs[1].columns"
   ]
  },
  {
   "cell_type": "code",
   "execution_count": 8,
   "metadata": {
    "ExecuteTime": {
     "end_time": "2018-10-03T05:21:14.347420Z",
     "start_time": "2018-10-03T05:21:14.340626Z"
    },
    "run_control": {
     "frozen": false,
     "read_only": false
    }
   },
   "outputs": [
    {
     "data": {
      "text/plain": [
       "Index(['Borough', 'Block', 'Lot', 'CD', 'CT2010', 'CB2010', 'SchoolDist',\n",
       "       'Council', 'ZipCode', 'FireComp', 'PolicePrct', 'HealthCenterDistrict',\n",
       "       'HealthArea', 'SanitBoro', 'SanitDistrict', 'SanitSub', 'Address',\n",
       "       'ZoneDist1', 'ZoneDist2', 'ZoneDist3', 'ZoneDist4', 'Overlay1',\n",
       "       'Overlay2', 'SPDist1', 'SPDist2', 'SPDist3', 'LtdHeight', 'SplitZone',\n",
       "       'BldgClass', 'LandUse', 'Easements', 'OwnerType', 'OwnerName',\n",
       "       'LotArea', 'BldgArea', 'ComArea', 'ResArea', 'OfficeArea', 'RetailArea',\n",
       "       'GarageArea', 'StrgeArea', 'FactryArea', 'OtherArea', 'AreaSource',\n",
       "       'NumBldgs', 'NumFloors', 'UnitsRes', 'UnitsTotal', 'LotFront',\n",
       "       'LotDepth', 'BldgFront', 'BldgDepth', 'Ext', 'ProxCode', 'IrrLotCode',\n",
       "       'LotType', 'BsmtCode', 'AssessLand', 'AssessTot', 'ExemptLand',\n",
       "       'ExemptTot', 'YearBuilt', 'YearAlter1', 'YearAlter2', 'HistDist',\n",
       "       'Landmark', 'BuiltFAR', 'ResidFAR', 'CommFAR', 'FacilFAR', 'BoroCode',\n",
       "       'BBL', 'CondoNo', 'Tract2010', 'XCoord', 'YCoord', 'ZoneMap', 'ZMCode',\n",
       "       'Sanborn', 'TaxMap', 'EDesigNum', 'APPBBL', 'APPDate', 'PLUTOMapID',\n",
       "       'FIRM07_Flag', 'PFIRM15_Flag', 'Version'],\n",
       "      dtype='object')"
      ]
     },
     "execution_count": 8,
     "metadata": {},
     "output_type": "execute_result"
    }
   ],
   "source": [
    "# show mn\n",
    "dfs[4].columns"
   ]
  },
  {
   "cell_type": "markdown",
   "metadata": {
    "ExecuteTime": {
     "end_time": "2018-10-03T04:53:20.197095Z",
     "start_time": "2018-10-03T04:53:20.190599Z"
    },
    "run_control": {
     "frozen": false,
     "read_only": false
    }
   },
   "source": [
    "# drop all columns but ZipCode and LandUse"
   ]
  },
  {
   "cell_type": "code",
   "execution_count": 9,
   "metadata": {},
   "outputs": [
    {
     "data": {
      "text/plain": [
       "['BX', 'BK', 'SI', 'QN', 'MN']"
      ]
     },
     "execution_count": 9,
     "metadata": {},
     "output_type": "execute_result"
    }
   ],
   "source": [
    "brs"
   ]
  },
  {
   "cell_type": "code",
   "execution_count": 10,
   "metadata": {},
   "outputs": [],
   "source": [
    "bx, bk, si, qn, mn = dfs[0], dfs[1], dfs[2], dfs[3], dfs[4]"
   ]
  },
  {
   "cell_type": "code",
   "execution_count": 11,
   "metadata": {},
   "outputs": [],
   "source": [
    "### FIRM07_FLAG and PFIRM15_FLAG is different.\n",
    "\n",
    "def dropButZipLU_A(df):\n",
    "    df.drop(['Borough', 'Block', 'Lot', 'CD', 'CT2010', 'CB2010', 'SchoolDist',\n",
    "           'Council', 'FireComp', 'PolicePrct', 'HealthCenterDistrict',\n",
    "           'HealthArea', 'SanitBoro', 'SanitDistrict', 'SanitSub', 'Address',\n",
    "           'ZoneDist1', 'ZoneDist2', 'ZoneDist3', 'ZoneDist4', 'Overlay1',\n",
    "           'Overlay2', 'SPDist1', 'SPDist2', 'SPDist3', 'LtdHeight', 'SplitZone',\n",
    "           'BldgClass', 'Easements', 'OwnerType', 'OwnerName',\n",
    "           'LotArea', 'BldgArea', 'ComArea', 'ResArea', 'OfficeArea', 'RetailArea',\n",
    "           'GarageArea', 'StrgeArea', 'FactryArea', 'OtherArea', 'AreaSource',\n",
    "           'NumBldgs', 'NumFloors', 'UnitsRes', 'UnitsTotal', 'LotFront',\n",
    "           'LotDepth', 'BldgFront', 'BldgDepth', 'Ext', 'ProxCode', 'IrrLotCode',\n",
    "           'LotType', 'BsmtCode', 'AssessLand', 'AssessTot', 'ExemptLand',\n",
    "           'ExemptTot', 'YearBuilt', 'YearAlter1', 'YearAlter2', 'HistDist',\n",
    "           'Landmark', 'BuiltFAR', 'ResidFAR', 'CommFAR', 'FacilFAR', 'BoroCode',\n",
    "           'BBL', 'CondoNo', 'Tract2010', 'XCoord', 'YCoord', 'ZoneMap', 'ZMCode',\n",
    "           'Sanborn', 'TaxMap', 'EDesigNum', 'APPBBL', 'APPDate', 'PLUTOMapID',\n",
    "           'FIRM07_FLAG', 'PFIRM15_FLAG', 'Version'], axis=1, inplace=True)\n",
    "    \n",
    "def dropButZipLU_B(df):\n",
    "    df.drop(['Borough', 'Block', 'Lot', 'CD', 'CT2010', 'CB2010', 'SchoolDist',\n",
    "           'Council', 'FireComp', 'PolicePrct', 'HealthCenterDistrict',\n",
    "           'HealthArea', 'SanitBoro', 'SanitDistrict', 'SanitSub', 'Address',\n",
    "           'ZoneDist1', 'ZoneDist2', 'ZoneDist3', 'ZoneDist4', 'Overlay1',\n",
    "           'Overlay2', 'SPDist1', 'SPDist2', 'SPDist3', 'LtdHeight', 'SplitZone',\n",
    "           'BldgClass', 'Easements', 'OwnerType', 'OwnerName',\n",
    "           'LotArea', 'BldgArea', 'ComArea', 'ResArea', 'OfficeArea', 'RetailArea',\n",
    "           'GarageArea', 'StrgeArea', 'FactryArea', 'OtherArea', 'AreaSource',\n",
    "           'NumBldgs', 'NumFloors', 'UnitsRes', 'UnitsTotal', 'LotFront',\n",
    "           'LotDepth', 'BldgFront', 'BldgDepth', 'Ext', 'ProxCode', 'IrrLotCode',\n",
    "           'LotType', 'BsmtCode', 'AssessLand', 'AssessTot', 'ExemptLand',\n",
    "           'ExemptTot', 'YearBuilt', 'YearAlter1', 'YearAlter2', 'HistDist',\n",
    "           'Landmark', 'BuiltFAR', 'ResidFAR', 'CommFAR', 'FacilFAR', 'BoroCode',\n",
    "           'BBL', 'CondoNo', 'Tract2010', 'XCoord', 'YCoord', 'ZoneMap', 'ZMCode',\n",
    "           'Sanborn', 'TaxMap', 'EDesigNum', 'APPBBL', 'APPDate', 'PLUTOMapID',\n",
    "           'FIRM07_Flag', 'PFIRM15_Flag', 'Version'], axis=1, inplace=True)"
   ]
  },
  {
   "cell_type": "code",
   "execution_count": 12,
   "metadata": {},
   "outputs": [],
   "source": [
    "dropButZipLU_A(bx)\n",
    "dropButZipLU_A(bk)\n",
    "dropButZipLU_A(si)\n",
    "dropButZipLU_A(qn)\n",
    "dropButZipLU_B(mn)"
   ]
  },
  {
   "cell_type": "code",
   "execution_count": 63,
   "metadata": {
    "ExecuteTime": {
     "end_time": "2018-10-03T05:21:44.952730Z",
     "start_time": "2018-10-03T05:21:44.940640Z"
    },
    "run_control": {
     "frozen": false,
     "read_only": false
    }
   },
   "outputs": [
    {
     "data": {
      "text/html": [
       "<div>\n",
       "<table border=\"1\" class=\"dataframe\">\n",
       "  <thead>\n",
       "    <tr style=\"text-align: right;\">\n",
       "      <th></th>\n",
       "      <th>ZipCode</th>\n",
       "      <th>LandUse</th>\n",
       "    </tr>\n",
       "  </thead>\n",
       "  <tbody>\n",
       "    <tr>\n",
       "      <th>0</th>\n",
       "      <td>10004.0</td>\n",
       "      <td>8.0</td>\n",
       "    </tr>\n",
       "    <tr>\n",
       "      <th>1</th>\n",
       "      <td>10004.0</td>\n",
       "      <td>8.0</td>\n",
       "    </tr>\n",
       "    <tr>\n",
       "      <th>2</th>\n",
       "      <td>10004.0</td>\n",
       "      <td>NaN</td>\n",
       "    </tr>\n",
       "    <tr>\n",
       "      <th>3</th>\n",
       "      <td>10004.0</td>\n",
       "      <td>7.0</td>\n",
       "    </tr>\n",
       "    <tr>\n",
       "      <th>4</th>\n",
       "      <td>10004.0</td>\n",
       "      <td>7.0</td>\n",
       "    </tr>\n",
       "  </tbody>\n",
       "</table>\n",
       "</div>"
      ],
      "text/plain": [
       "   ZipCode  LandUse\n",
       "0  10004.0      8.0\n",
       "1  10004.0      8.0\n",
       "2  10004.0      NaN\n",
       "3  10004.0      7.0\n",
       "4  10004.0      7.0"
      ]
     },
     "execution_count": 63,
     "metadata": {},
     "output_type": "execute_result"
    }
   ],
   "source": [
    "# drop columns here. Use the .drop method of pandas dataframes, i.e. something like bk.drop()... \n",
    "# make sure you drop \"in place\" and that you drop along the right axis - i.e. the columns. \n",
    "# you can use bk.drop? to the help with this function \n",
    "dropButZipLU_B(mn)\n",
    "mn.head()"
   ]
  },
  {
   "cell_type": "code",
   "execution_count": 64,
   "metadata": {
    "ExecuteTime": {
     "end_time": "2018-10-03T05:21:20.155607Z",
     "start_time": "2018-10-03T05:21:20.144262Z"
    },
    "run_control": {
     "frozen": false,
     "read_only": false
    }
   },
   "outputs": [
    {
     "data": {
      "text/html": [
       "<div>\n",
       "<table border=\"1\" class=\"dataframe\">\n",
       "  <thead>\n",
       "    <tr style=\"text-align: right;\">\n",
       "      <th></th>\n",
       "      <th>ZipCode</th>\n",
       "      <th>LandUse</th>\n",
       "    </tr>\n",
       "  </thead>\n",
       "  <tbody>\n",
       "    <tr>\n",
       "      <th>0</th>\n",
       "      <td>11201.0</td>\n",
       "      <td>11.0</td>\n",
       "    </tr>\n",
       "    <tr>\n",
       "      <th>1</th>\n",
       "      <td>11201.0</td>\n",
       "      <td>5.0</td>\n",
       "    </tr>\n",
       "    <tr>\n",
       "      <th>2</th>\n",
       "      <td>11201.0</td>\n",
       "      <td>4.0</td>\n",
       "    </tr>\n",
       "    <tr>\n",
       "      <th>3</th>\n",
       "      <td>11201.0</td>\n",
       "      <td>7.0</td>\n",
       "    </tr>\n",
       "    <tr>\n",
       "      <th>4</th>\n",
       "      <td>11201.0</td>\n",
       "      <td>7.0</td>\n",
       "    </tr>\n",
       "  </tbody>\n",
       "</table>\n",
       "</div>"
      ],
      "text/plain": [
       "   ZipCode  LandUse\n",
       "0  11201.0     11.0\n",
       "1  11201.0      5.0\n",
       "2  11201.0      4.0\n",
       "3  11201.0      7.0\n",
       "4  11201.0      7.0"
      ]
     },
     "execution_count": 64,
     "metadata": {},
     "output_type": "execute_result"
    }
   ],
   "source": [
    "# drop columns here...\n",
    "dropButZipLU_A(bk)\n",
    "bk.head()"
   ]
  },
  {
   "cell_type": "markdown",
   "metadata": {
    "run_control": {
     "frozen": false,
     "read_only": false
    }
   },
   "source": [
    "# use groupby to count the building per LandUse code "
   ]
  },
  {
   "cell_type": "code",
   "execution_count": 13,
   "metadata": {
    "ExecuteTime": {
     "end_time": "2018-10-03T05:22:51.222154Z",
     "start_time": "2018-10-03T05:22:51.203841Z"
    },
    "run_control": {
     "frozen": false,
     "read_only": false
    }
   },
   "outputs": [
    {
     "data": {
      "text/html": [
       "<div>\n",
       "<table border=\"1\" class=\"dataframe\">\n",
       "  <thead>\n",
       "    <tr style=\"text-align: right;\">\n",
       "      <th></th>\n",
       "      <th>LandUse</th>\n",
       "      <th>ZipCode</th>\n",
       "    </tr>\n",
       "  </thead>\n",
       "  <tbody>\n",
       "    <tr>\n",
       "      <th>0</th>\n",
       "      <td>1.0</td>\n",
       "      <td>4019</td>\n",
       "    </tr>\n",
       "    <tr>\n",
       "      <th>1</th>\n",
       "      <td>2.0</td>\n",
       "      <td>16246</td>\n",
       "    </tr>\n",
       "    <tr>\n",
       "      <th>2</th>\n",
       "      <td>3.0</td>\n",
       "      <td>4881</td>\n",
       "    </tr>\n",
       "    <tr>\n",
       "      <th>3</th>\n",
       "      <td>4.0</td>\n",
       "      <td>7238</td>\n",
       "    </tr>\n",
       "    <tr>\n",
       "      <th>4</th>\n",
       "      <td>5.0</td>\n",
       "      <td>4465</td>\n",
       "    </tr>\n",
       "    <tr>\n",
       "      <th>5</th>\n",
       "      <td>6.0</td>\n",
       "      <td>726</td>\n",
       "    </tr>\n",
       "    <tr>\n",
       "      <th>6</th>\n",
       "      <td>7.0</td>\n",
       "      <td>386</td>\n",
       "    </tr>\n",
       "    <tr>\n",
       "      <th>7</th>\n",
       "      <td>8.0</td>\n",
       "      <td>2456</td>\n",
       "    </tr>\n",
       "    <tr>\n",
       "      <th>8</th>\n",
       "      <td>9.0</td>\n",
       "      <td>434</td>\n",
       "    </tr>\n",
       "    <tr>\n",
       "      <th>9</th>\n",
       "      <td>10.0</td>\n",
       "      <td>679</td>\n",
       "    </tr>\n",
       "    <tr>\n",
       "      <th>10</th>\n",
       "      <td>11.0</td>\n",
       "      <td>1199</td>\n",
       "    </tr>\n",
       "  </tbody>\n",
       "</table>\n",
       "</div>"
      ],
      "text/plain": [
       "    LandUse  ZipCode\n",
       "0       1.0     4019\n",
       "1       2.0    16246\n",
       "2       3.0     4881\n",
       "3       4.0     7238\n",
       "4       5.0     4465\n",
       "5       6.0      726\n",
       "6       7.0      386\n",
       "7       8.0     2456\n",
       "8       9.0      434\n",
       "9      10.0      679\n",
       "10     11.0     1199"
      ]
     },
     "execution_count": 13,
     "metadata": {},
     "output_type": "execute_result"
    }
   ],
   "source": [
    "# group Manhattan by land use. Make sure you understand how to use the groupby() method:\n",
    "# this method returns a group object. those objects have methods and some of these methods return dataframes. \n",
    "# What do you want to do? you want to count all objects per each land use type. \n",
    "# So you want to use .groupby() to group by LandUse and then .count() to get the number of element per LandUse\n",
    "# Other methods include .mean() to get the mean of a group, .std(), \n",
    "# and a generic method .apply() to which you can pass any function that operates on a column.\n",
    "# All these methods return dataframes \n",
    "# (hint: use also reset_index) for each df\n",
    "mngrouped = mn.groupby(['LandUse'])['ZipCode'].count().reset_index()\n",
    "mngrouped"
   ]
  },
  {
   "cell_type": "code",
   "execution_count": 14,
   "metadata": {},
   "outputs": [
    {
     "data": {
      "text/html": [
       "<div>\n",
       "<table border=\"1\" class=\"dataframe\">\n",
       "  <thead>\n",
       "    <tr style=\"text-align: right;\">\n",
       "      <th></th>\n",
       "      <th>LandUse</th>\n",
       "      <th>ZipCode</th>\n",
       "    </tr>\n",
       "  </thead>\n",
       "  <tbody>\n",
       "    <tr>\n",
       "      <th>0</th>\n",
       "      <td>1.0</td>\n",
       "      <td>156271</td>\n",
       "    </tr>\n",
       "    <tr>\n",
       "      <th>1</th>\n",
       "      <td>2.0</td>\n",
       "      <td>66358</td>\n",
       "    </tr>\n",
       "    <tr>\n",
       "      <th>2</th>\n",
       "      <td>3.0</td>\n",
       "      <td>3437</td>\n",
       "    </tr>\n",
       "    <tr>\n",
       "      <th>3</th>\n",
       "      <td>4.0</td>\n",
       "      <td>22515</td>\n",
       "    </tr>\n",
       "    <tr>\n",
       "      <th>4</th>\n",
       "      <td>5.0</td>\n",
       "      <td>5743</td>\n",
       "    </tr>\n",
       "    <tr>\n",
       "      <th>5</th>\n",
       "      <td>6.0</td>\n",
       "      <td>4434</td>\n",
       "    </tr>\n",
       "    <tr>\n",
       "      <th>6</th>\n",
       "      <td>7.0</td>\n",
       "      <td>1040</td>\n",
       "    </tr>\n",
       "    <tr>\n",
       "      <th>7</th>\n",
       "      <td>8.0</td>\n",
       "      <td>4330</td>\n",
       "    </tr>\n",
       "    <tr>\n",
       "      <th>8</th>\n",
       "      <td>9.0</td>\n",
       "      <td>872</td>\n",
       "    </tr>\n",
       "    <tr>\n",
       "      <th>9</th>\n",
       "      <td>10.0</td>\n",
       "      <td>4229</td>\n",
       "    </tr>\n",
       "    <tr>\n",
       "      <th>10</th>\n",
       "      <td>11.0</td>\n",
       "      <td>6298</td>\n",
       "    </tr>\n",
       "  </tbody>\n",
       "</table>\n",
       "</div>"
      ],
      "text/plain": [
       "    LandUse  ZipCode\n",
       "0       1.0   156271\n",
       "1       2.0    66358\n",
       "2       3.0     3437\n",
       "3       4.0    22515\n",
       "4       5.0     5743\n",
       "5       6.0     4434\n",
       "6       7.0     1040\n",
       "7       8.0     4330\n",
       "8       9.0      872\n",
       "9      10.0     4229\n",
       "10     11.0     6298"
      ]
     },
     "execution_count": 14,
     "metadata": {},
     "output_type": "execute_result"
    }
   ],
   "source": [
    "# group BK by land use\n",
    "bkgrouped = bk.groupby(['LandUse'])['ZipCode'].count().reset_index()\n",
    "bkgrouped"
   ]
  },
  {
   "cell_type": "markdown",
   "metadata": {
    "run_control": {
     "frozen": false,
     "read_only": false
    }
   },
   "source": [
    "# convert the landuse to integer "
   ]
  },
  {
   "cell_type": "code",
   "execution_count": 15,
   "metadata": {},
   "outputs": [
    {
     "data": {
      "text/html": [
       "<div>\n",
       "<table border=\"1\" class=\"dataframe\">\n",
       "  <thead>\n",
       "    <tr style=\"text-align: right;\">\n",
       "      <th></th>\n",
       "      <th>LandUse</th>\n",
       "      <th>ZipCode</th>\n",
       "    </tr>\n",
       "  </thead>\n",
       "  <tbody>\n",
       "    <tr>\n",
       "      <th>0</th>\n",
       "      <td>1</td>\n",
       "      <td>4019</td>\n",
       "    </tr>\n",
       "    <tr>\n",
       "      <th>1</th>\n",
       "      <td>2</td>\n",
       "      <td>16246</td>\n",
       "    </tr>\n",
       "    <tr>\n",
       "      <th>2</th>\n",
       "      <td>3</td>\n",
       "      <td>4881</td>\n",
       "    </tr>\n",
       "    <tr>\n",
       "      <th>3</th>\n",
       "      <td>4</td>\n",
       "      <td>7238</td>\n",
       "    </tr>\n",
       "    <tr>\n",
       "      <th>4</th>\n",
       "      <td>5</td>\n",
       "      <td>4465</td>\n",
       "    </tr>\n",
       "  </tbody>\n",
       "</table>\n",
       "</div>"
      ],
      "text/plain": [
       "   LandUse  ZipCode\n",
       "0        1     4019\n",
       "1        2    16246\n",
       "2        3     4881\n",
       "3        4     7238\n",
       "4        5     4465"
      ]
     },
     "execution_count": 15,
     "metadata": {},
     "output_type": "execute_result"
    }
   ],
   "source": [
    "mngrouped.LandUse = bkgrouped.LandUse.astype(int)\n",
    "mngrouped.head()"
   ]
  },
  {
   "cell_type": "code",
   "execution_count": 16,
   "metadata": {
    "ExecuteTime": {
     "end_time": "2018-10-03T05:22:46.813021Z",
     "start_time": "2018-10-03T05:22:46.785221Z"
    },
    "run_control": {
     "frozen": false,
     "read_only": false
    }
   },
   "outputs": [
    {
     "data": {
      "text/html": [
       "<div>\n",
       "<table border=\"1\" class=\"dataframe\">\n",
       "  <thead>\n",
       "    <tr style=\"text-align: right;\">\n",
       "      <th></th>\n",
       "      <th>LandUse</th>\n",
       "      <th>ZipCode</th>\n",
       "    </tr>\n",
       "  </thead>\n",
       "  <tbody>\n",
       "    <tr>\n",
       "      <th>0</th>\n",
       "      <td>1</td>\n",
       "      <td>156271</td>\n",
       "    </tr>\n",
       "    <tr>\n",
       "      <th>1</th>\n",
       "      <td>2</td>\n",
       "      <td>66358</td>\n",
       "    </tr>\n",
       "    <tr>\n",
       "      <th>2</th>\n",
       "      <td>3</td>\n",
       "      <td>3437</td>\n",
       "    </tr>\n",
       "    <tr>\n",
       "      <th>3</th>\n",
       "      <td>4</td>\n",
       "      <td>22515</td>\n",
       "    </tr>\n",
       "    <tr>\n",
       "      <th>4</th>\n",
       "      <td>5</td>\n",
       "      <td>5743</td>\n",
       "    </tr>\n",
       "  </tbody>\n",
       "</table>\n",
       "</div>"
      ],
      "text/plain": [
       "   LandUse  ZipCode\n",
       "0        1   156271\n",
       "1        2    66358\n",
       "2        3     3437\n",
       "3        4    22515\n",
       "4        5     5743"
      ]
     },
     "execution_count": 16,
     "metadata": {},
     "output_type": "execute_result"
    }
   ],
   "source": [
    "# convert LandUse to int using the .astype() method of the series\n",
    "bkgrouped.LandUse = bkgrouped.LandUse.astype(int)\n",
    "bkgrouped.head()"
   ]
  },
  {
   "cell_type": "markdown",
   "metadata": {
    "run_control": {
     "frozen": false,
     "read_only": false
    }
   },
   "source": [
    "# merge the dataframes on land use "
   ]
  },
  {
   "cell_type": "code",
   "execution_count": 17,
   "metadata": {
    "ExecuteTime": {
     "end_time": "2018-10-04T02:41:24.261784Z",
     "start_time": "2018-10-04T02:41:24.176481Z"
    },
    "run_control": {
     "frozen": false,
     "read_only": false
    }
   },
   "outputs": [
    {
     "data": {
      "text/plain": [
       "Index(['LandUse', 'ZipCode_x', 'ZipCode_y'], dtype='object')"
      ]
     },
     "execution_count": 17,
     "metadata": {},
     "output_type": "execute_result"
    }
   ],
   "source": [
    "# merge the dataframes on LandUse. You can use the pandas function merge ( _pd.merge)\n",
    "both = pd.merge(bkgrouped,mngrouped, on='LandUse') \n",
    "both.columns"
   ]
  },
  {
   "cell_type": "markdown",
   "metadata": {
    "run_control": {
     "frozen": false,
     "read_only": false
    }
   },
   "source": [
    "# rename things so that you have descriptive names"
   ]
  },
  {
   "cell_type": "markdown",
   "metadata": {
    "ExecuteTime": {
     "end_time": "2018-10-04T03:01:27.055823Z",
     "start_time": "2018-10-04T03:01:27.048997Z"
    },
    "run_control": {
     "frozen": false,
     "read_only": false
    }
   },
   "source": [
    "## rename the columns with descriptive names. \n"
   ]
  },
  {
   "cell_type": "code",
   "execution_count": 19,
   "metadata": {
    "ExecuteTime": {
     "end_time": "2018-10-03T05:25:08.735314Z",
     "start_time": "2018-10-03T05:25:08.720514Z"
    },
    "run_control": {
     "frozen": false,
     "read_only": false
    }
   },
   "outputs": [
    {
     "data": {
      "text/html": [
       "<div>\n",
       "<table border=\"1\" class=\"dataframe\">\n",
       "  <thead>\n",
       "    <tr style=\"text-align: right;\">\n",
       "      <th></th>\n",
       "      <th>LandUse</th>\n",
       "      <th>bk</th>\n",
       "      <th>mn</th>\n",
       "    </tr>\n",
       "  </thead>\n",
       "  <tbody>\n",
       "    <tr>\n",
       "      <th>0</th>\n",
       "      <td>1</td>\n",
       "      <td>156271</td>\n",
       "      <td>4019</td>\n",
       "    </tr>\n",
       "    <tr>\n",
       "      <th>1</th>\n",
       "      <td>2</td>\n",
       "      <td>66358</td>\n",
       "      <td>16246</td>\n",
       "    </tr>\n",
       "    <tr>\n",
       "      <th>2</th>\n",
       "      <td>3</td>\n",
       "      <td>3437</td>\n",
       "      <td>4881</td>\n",
       "    </tr>\n",
       "    <tr>\n",
       "      <th>3</th>\n",
       "      <td>4</td>\n",
       "      <td>22515</td>\n",
       "      <td>7238</td>\n",
       "    </tr>\n",
       "    <tr>\n",
       "      <th>4</th>\n",
       "      <td>5</td>\n",
       "      <td>5743</td>\n",
       "      <td>4465</td>\n",
       "    </tr>\n",
       "    <tr>\n",
       "      <th>5</th>\n",
       "      <td>6</td>\n",
       "      <td>4434</td>\n",
       "      <td>726</td>\n",
       "    </tr>\n",
       "    <tr>\n",
       "      <th>6</th>\n",
       "      <td>7</td>\n",
       "      <td>1040</td>\n",
       "      <td>386</td>\n",
       "    </tr>\n",
       "    <tr>\n",
       "      <th>7</th>\n",
       "      <td>8</td>\n",
       "      <td>4330</td>\n",
       "      <td>2456</td>\n",
       "    </tr>\n",
       "    <tr>\n",
       "      <th>8</th>\n",
       "      <td>9</td>\n",
       "      <td>872</td>\n",
       "      <td>434</td>\n",
       "    </tr>\n",
       "    <tr>\n",
       "      <th>9</th>\n",
       "      <td>10</td>\n",
       "      <td>4229</td>\n",
       "      <td>679</td>\n",
       "    </tr>\n",
       "    <tr>\n",
       "      <th>10</th>\n",
       "      <td>11</td>\n",
       "      <td>6298</td>\n",
       "      <td>1199</td>\n",
       "    </tr>\n",
       "  </tbody>\n",
       "</table>\n",
       "</div>"
      ],
      "text/plain": [
       "    LandUse      bk     mn\n",
       "0         1  156271   4019\n",
       "1         2   66358  16246\n",
       "2         3    3437   4881\n",
       "3         4   22515   7238\n",
       "4         5    5743   4465\n",
       "5         6    4434    726\n",
       "6         7    1040    386\n",
       "7         8    4330   2456\n",
       "8         9     872    434\n",
       "9        10    4229    679\n",
       "10       11    6298   1199"
      ]
     },
     "execution_count": 19,
     "metadata": {},
     "output_type": "execute_result"
    }
   ],
   "source": [
    "# Use the df.rename() method (hint: it takes a dictionary)\n",
    "# now you can just call \"both\" instead of \"both.head()\" since the file should only have 11 columns\n",
    "both = both.rename(index=str, columns={'ZipCode_x':'bk','ZipCode_y':'mn'})\n",
    "both"
   ]
  },
  {
   "cell_type": "markdown",
   "metadata": {
    "run_control": {
     "frozen": false,
     "read_only": false
    }
   },
   "source": [
    "## find online the LandUse data dictionary and replace code w the verbose description of it\n"
   ]
  },
  {
   "cell_type": "raw",
   "metadata": {},
   "source": [
    "01 One &Two Family Buildings\n",
    "02 Multi-Family Walk-Up Buildings\n",
    "03 Multi-Family Elevator Buildings\n",
    "04 Mixed Residential & Commercial Buildings\n",
    "05 Commercial & Office Buildings\n",
    "06 Industrial & Manufacturing\n",
    "07 Transportation & Utility\n",
    "08 Public Facilities & Institutions\n",
    "09 Open Space & Outdoor Recreation\n",
    "10 Parking Facilities\n",
    "11 Vacant Land"
   ]
  },
  {
   "cell_type": "code",
   "execution_count": 20,
   "metadata": {
    "ExecuteTime": {
     "end_time": "2018-10-03T05:25:34.659631Z",
     "start_time": "2018-10-03T05:25:34.643151Z"
    },
    "run_control": {
     "frozen": false,
     "read_only": false
    }
   },
   "outputs": [
    {
     "data": {
      "text/html": [
       "<div>\n",
       "<table border=\"1\" class=\"dataframe\">\n",
       "  <thead>\n",
       "    <tr style=\"text-align: right;\">\n",
       "      <th></th>\n",
       "      <th>LandUse</th>\n",
       "      <th>bk</th>\n",
       "      <th>mn</th>\n",
       "    </tr>\n",
       "  </thead>\n",
       "  <tbody>\n",
       "    <tr>\n",
       "      <th>0</th>\n",
       "      <td>One &amp;Two Family Buildings</td>\n",
       "      <td>156271</td>\n",
       "      <td>4019</td>\n",
       "    </tr>\n",
       "    <tr>\n",
       "      <th>1</th>\n",
       "      <td>Multi-Family Walk-Up Buildings</td>\n",
       "      <td>66358</td>\n",
       "      <td>16246</td>\n",
       "    </tr>\n",
       "    <tr>\n",
       "      <th>2</th>\n",
       "      <td>Multi-Family Elevator Buildings</td>\n",
       "      <td>3437</td>\n",
       "      <td>4881</td>\n",
       "    </tr>\n",
       "    <tr>\n",
       "      <th>3</th>\n",
       "      <td>Mixed Residential &amp; Commercial Buildings</td>\n",
       "      <td>22515</td>\n",
       "      <td>7238</td>\n",
       "    </tr>\n",
       "    <tr>\n",
       "      <th>4</th>\n",
       "      <td>Commercial &amp; Office Buildings</td>\n",
       "      <td>5743</td>\n",
       "      <td>4465</td>\n",
       "    </tr>\n",
       "    <tr>\n",
       "      <th>5</th>\n",
       "      <td>Industrial &amp; Manufacturing</td>\n",
       "      <td>4434</td>\n",
       "      <td>726</td>\n",
       "    </tr>\n",
       "    <tr>\n",
       "      <th>6</th>\n",
       "      <td>Transportation &amp; Utility</td>\n",
       "      <td>1040</td>\n",
       "      <td>386</td>\n",
       "    </tr>\n",
       "    <tr>\n",
       "      <th>7</th>\n",
       "      <td>Public Facilities &amp; Institutions</td>\n",
       "      <td>4330</td>\n",
       "      <td>2456</td>\n",
       "    </tr>\n",
       "    <tr>\n",
       "      <th>8</th>\n",
       "      <td>Open Space &amp; Outdoor Recreation</td>\n",
       "      <td>872</td>\n",
       "      <td>434</td>\n",
       "    </tr>\n",
       "    <tr>\n",
       "      <th>9</th>\n",
       "      <td>Parking Facilities</td>\n",
       "      <td>4229</td>\n",
       "      <td>679</td>\n",
       "    </tr>\n",
       "    <tr>\n",
       "      <th>10</th>\n",
       "      <td>Vacant Land</td>\n",
       "      <td>6298</td>\n",
       "      <td>1199</td>\n",
       "    </tr>\n",
       "  </tbody>\n",
       "</table>\n",
       "</div>"
      ],
      "text/plain": [
       "                                     LandUse      bk     mn\n",
       "0                  One &Two Family Buildings  156271   4019\n",
       "1             Multi-Family Walk-Up Buildings   66358  16246\n",
       "2            Multi-Family Elevator Buildings    3437   4881\n",
       "3   Mixed Residential & Commercial Buildings   22515   7238\n",
       "4              Commercial & Office Buildings    5743   4465\n",
       "5                 Industrial & Manufacturing    4434    726\n",
       "6                   Transportation & Utility    1040    386\n",
       "7           Public Facilities & Institutions    4330   2456\n",
       "8            Open Space & Outdoor Recreation     872    434\n",
       "9                         Parking Facilities    4229    679\n",
       "10                               Vacant Land    6298   1199"
      ]
     },
     "execution_count": 20,
     "metadata": {},
     "output_type": "execute_result"
    }
   ],
   "source": [
    "# set up Land Use values to descriptive tag\n",
    "both.LandUse[both['LandUse']==1] = 'One &Two Family Buildings'\n",
    "both.LandUse[both['LandUse']==2] = 'Multi-Family Walk-Up Buildings'\n",
    "both.LandUse[both['LandUse']==3] = 'Multi-Family Elevator Buildings'\n",
    "both.LandUse[both['LandUse']==4] = 'Mixed Residential & Commercial Buildings'\n",
    "both.LandUse[both['LandUse']==5] = 'Commercial & Office Buildings'\n",
    "both.LandUse[both['LandUse']==6] = 'Industrial & Manufacturing'\n",
    "both.LandUse[both['LandUse']==7] = 'Transportation & Utility'\n",
    "both.LandUse[both['LandUse']==8] = 'Public Facilities & Institutions'\n",
    "both.LandUse[both['LandUse']==9] = 'Open Space & Outdoor Recreation'\n",
    "both.LandUse[both['LandUse']==10] = 'Parking Facilities'\n",
    "both.LandUse[both['LandUse']==11] = 'Vacant Land'\n",
    "both"
   ]
  },
  {
   "cell_type": "markdown",
   "metadata": {
    "run_control": {
     "frozen": false,
     "read_only": false
    }
   },
   "source": [
    "# create a feature (a column, a series) with the ratio of number of buildings in BK vs MN and find out in which LandUse class Manhattan has more buildings than BK "
   ]
  },
  {
   "cell_type": "code",
   "execution_count": 23,
   "metadata": {
    "ExecuteTime": {
     "end_time": "2018-10-03T05:26:56.697630Z",
     "start_time": "2018-10-03T05:26:56.677403Z"
    },
    "run_control": {
     "frozen": false,
     "read_only": false
    }
   },
   "outputs": [
    {
     "data": {
      "text/html": [
       "<div>\n",
       "<table border=\"1\" class=\"dataframe\">\n",
       "  <thead>\n",
       "    <tr style=\"text-align: right;\">\n",
       "      <th></th>\n",
       "      <th>LandUse</th>\n",
       "      <th>bk</th>\n",
       "      <th>mn</th>\n",
       "      <th>luration</th>\n",
       "    </tr>\n",
       "  </thead>\n",
       "  <tbody>\n",
       "    <tr>\n",
       "      <th>0</th>\n",
       "      <td>One &amp;Two Family Buildings</td>\n",
       "      <td>156271</td>\n",
       "      <td>4019</td>\n",
       "      <td>0.025718</td>\n",
       "    </tr>\n",
       "    <tr>\n",
       "      <th>1</th>\n",
       "      <td>Multi-Family Walk-Up Buildings</td>\n",
       "      <td>66358</td>\n",
       "      <td>16246</td>\n",
       "      <td>0.244824</td>\n",
       "    </tr>\n",
       "    <tr>\n",
       "      <th>2</th>\n",
       "      <td>Multi-Family Elevator Buildings</td>\n",
       "      <td>3437</td>\n",
       "      <td>4881</td>\n",
       "      <td>1.420134</td>\n",
       "    </tr>\n",
       "    <tr>\n",
       "      <th>3</th>\n",
       "      <td>Mixed Residential &amp; Commercial Buildings</td>\n",
       "      <td>22515</td>\n",
       "      <td>7238</td>\n",
       "      <td>0.321475</td>\n",
       "    </tr>\n",
       "    <tr>\n",
       "      <th>4</th>\n",
       "      <td>Commercial &amp; Office Buildings</td>\n",
       "      <td>5743</td>\n",
       "      <td>4465</td>\n",
       "      <td>0.777468</td>\n",
       "    </tr>\n",
       "    <tr>\n",
       "      <th>5</th>\n",
       "      <td>Industrial &amp; Manufacturing</td>\n",
       "      <td>4434</td>\n",
       "      <td>726</td>\n",
       "      <td>0.163735</td>\n",
       "    </tr>\n",
       "    <tr>\n",
       "      <th>6</th>\n",
       "      <td>Transportation &amp; Utility</td>\n",
       "      <td>1040</td>\n",
       "      <td>386</td>\n",
       "      <td>0.371154</td>\n",
       "    </tr>\n",
       "    <tr>\n",
       "      <th>7</th>\n",
       "      <td>Public Facilities &amp; Institutions</td>\n",
       "      <td>4330</td>\n",
       "      <td>2456</td>\n",
       "      <td>0.567206</td>\n",
       "    </tr>\n",
       "    <tr>\n",
       "      <th>8</th>\n",
       "      <td>Open Space &amp; Outdoor Recreation</td>\n",
       "      <td>872</td>\n",
       "      <td>434</td>\n",
       "      <td>0.497706</td>\n",
       "    </tr>\n",
       "    <tr>\n",
       "      <th>9</th>\n",
       "      <td>Parking Facilities</td>\n",
       "      <td>4229</td>\n",
       "      <td>679</td>\n",
       "      <td>0.160558</td>\n",
       "    </tr>\n",
       "    <tr>\n",
       "      <th>10</th>\n",
       "      <td>Vacant Land</td>\n",
       "      <td>6298</td>\n",
       "      <td>1199</td>\n",
       "      <td>0.190378</td>\n",
       "    </tr>\n",
       "  </tbody>\n",
       "</table>\n",
       "</div>"
      ],
      "text/plain": [
       "                                     LandUse      bk     mn  luration\n",
       "0                  One &Two Family Buildings  156271   4019  0.025718\n",
       "1             Multi-Family Walk-Up Buildings   66358  16246  0.244824\n",
       "2            Multi-Family Elevator Buildings    3437   4881  1.420134\n",
       "3   Mixed Residential & Commercial Buildings   22515   7238  0.321475\n",
       "4              Commercial & Office Buildings    5743   4465  0.777468\n",
       "5                 Industrial & Manufacturing    4434    726  0.163735\n",
       "6                   Transportation & Utility    1040    386  0.371154\n",
       "7           Public Facilities & Institutions    4330   2456  0.567206\n",
       "8            Open Space & Outdoor Recreation     872    434  0.497706\n",
       "9                         Parking Facilities    4229    679  0.160558\n",
       "10                               Vacant Land    6298   1199  0.190378"
      ]
     },
     "execution_count": 23,
     "metadata": {},
     "output_type": "execute_result"
    }
   ],
   "source": [
    "# calculate the ratio of BK to Man buildings per LandUse category\n",
    "both['luration'] = both.mn / both.bk\n",
    "both"
   ]
  },
  {
   "cell_type": "code",
   "execution_count": 36,
   "metadata": {},
   "outputs": [],
   "source": [
    "def winornot(luratio):\n",
    "    return (luratio < 1)"
   ]
  },
  {
   "cell_type": "code",
   "execution_count": 37,
   "metadata": {
    "ExecuteTime": {
     "end_time": "2018-10-03T05:27:07.762699Z",
     "start_time": "2018-10-03T05:27:07.744993Z"
    },
    "run_control": {
     "frozen": false,
     "read_only": false
    }
   },
   "outputs": [
    {
     "data": {
      "text/html": [
       "<div>\n",
       "<table border=\"1\" class=\"dataframe\">\n",
       "  <thead>\n",
       "    <tr style=\"text-align: right;\">\n",
       "      <th></th>\n",
       "      <th>LandUse</th>\n",
       "      <th>bk</th>\n",
       "      <th>mn</th>\n",
       "      <th>luration</th>\n",
       "      <th>Manhattan wins</th>\n",
       "    </tr>\n",
       "  </thead>\n",
       "  <tbody>\n",
       "    <tr>\n",
       "      <th>0</th>\n",
       "      <td>One &amp;Two Family Buildings</td>\n",
       "      <td>156271</td>\n",
       "      <td>4019</td>\n",
       "      <td>0.025718</td>\n",
       "      <td>False</td>\n",
       "    </tr>\n",
       "    <tr>\n",
       "      <th>1</th>\n",
       "      <td>Multi-Family Walk-Up Buildings</td>\n",
       "      <td>66358</td>\n",
       "      <td>16246</td>\n",
       "      <td>0.244824</td>\n",
       "      <td>False</td>\n",
       "    </tr>\n",
       "    <tr>\n",
       "      <th>2</th>\n",
       "      <td>Multi-Family Elevator Buildings</td>\n",
       "      <td>3437</td>\n",
       "      <td>4881</td>\n",
       "      <td>1.420134</td>\n",
       "      <td>True</td>\n",
       "    </tr>\n",
       "    <tr>\n",
       "      <th>3</th>\n",
       "      <td>Mixed Residential &amp; Commercial Buildings</td>\n",
       "      <td>22515</td>\n",
       "      <td>7238</td>\n",
       "      <td>0.321475</td>\n",
       "      <td>False</td>\n",
       "    </tr>\n",
       "    <tr>\n",
       "      <th>4</th>\n",
       "      <td>Commercial &amp; Office Buildings</td>\n",
       "      <td>5743</td>\n",
       "      <td>4465</td>\n",
       "      <td>0.777468</td>\n",
       "      <td>False</td>\n",
       "    </tr>\n",
       "    <tr>\n",
       "      <th>5</th>\n",
       "      <td>Industrial &amp; Manufacturing</td>\n",
       "      <td>4434</td>\n",
       "      <td>726</td>\n",
       "      <td>0.163735</td>\n",
       "      <td>False</td>\n",
       "    </tr>\n",
       "    <tr>\n",
       "      <th>6</th>\n",
       "      <td>Transportation &amp; Utility</td>\n",
       "      <td>1040</td>\n",
       "      <td>386</td>\n",
       "      <td>0.371154</td>\n",
       "      <td>False</td>\n",
       "    </tr>\n",
       "    <tr>\n",
       "      <th>7</th>\n",
       "      <td>Public Facilities &amp; Institutions</td>\n",
       "      <td>4330</td>\n",
       "      <td>2456</td>\n",
       "      <td>0.567206</td>\n",
       "      <td>False</td>\n",
       "    </tr>\n",
       "    <tr>\n",
       "      <th>8</th>\n",
       "      <td>Open Space &amp; Outdoor Recreation</td>\n",
       "      <td>872</td>\n",
       "      <td>434</td>\n",
       "      <td>0.497706</td>\n",
       "      <td>False</td>\n",
       "    </tr>\n",
       "    <tr>\n",
       "      <th>9</th>\n",
       "      <td>Parking Facilities</td>\n",
       "      <td>4229</td>\n",
       "      <td>679</td>\n",
       "      <td>0.160558</td>\n",
       "      <td>False</td>\n",
       "    </tr>\n",
       "    <tr>\n",
       "      <th>10</th>\n",
       "      <td>Vacant Land</td>\n",
       "      <td>6298</td>\n",
       "      <td>1199</td>\n",
       "      <td>0.190378</td>\n",
       "      <td>False</td>\n",
       "    </tr>\n",
       "  </tbody>\n",
       "</table>\n",
       "</div>"
      ],
      "text/plain": [
       "                                     LandUse      bk     mn  luration  \\\n",
       "0                  One &Two Family Buildings  156271   4019  0.025718   \n",
       "1             Multi-Family Walk-Up Buildings   66358  16246  0.244824   \n",
       "2            Multi-Family Elevator Buildings    3437   4881  1.420134   \n",
       "3   Mixed Residential & Commercial Buildings   22515   7238  0.321475   \n",
       "4              Commercial & Office Buildings    5743   4465  0.777468   \n",
       "5                 Industrial & Manufacturing    4434    726  0.163735   \n",
       "6                   Transportation & Utility    1040    386  0.371154   \n",
       "7           Public Facilities & Institutions    4330   2456  0.567206   \n",
       "8            Open Space & Outdoor Recreation     872    434  0.497706   \n",
       "9                         Parking Facilities    4229    679  0.160558   \n",
       "10                               Vacant Land    6298   1199  0.190378   \n",
       "\n",
       "   Manhattan wins  \n",
       "0           False  \n",
       "1           False  \n",
       "2            True  \n",
       "3           False  \n",
       "4           False  \n",
       "5           False  \n",
       "6           False  \n",
       "7           False  \n",
       "8           False  \n",
       "9           False  \n",
       "10          False  "
      ]
     },
     "execution_count": 37,
     "metadata": {},
     "output_type": "execute_result"
    }
   ],
   "source": [
    "# defined function that returns True if the ratio is larger than 0, False otherwise. \n",
    "# Use the series.apply() method to apply that function to the luratio series you jusrt created\n",
    "both['Manhattan wins'] = both.luration.apply(winornot)\n",
    "both"
   ]
  },
  {
   "cell_type": "markdown",
   "metadata": {
    "run_control": {
     "frozen": false,
     "read_only": false
    }
   },
   "source": [
    "# comment on what you found out. Does it make sense? "
   ]
  },
  {
   "cell_type": "code",
   "execution_count": 41,
   "metadata": {},
   "outputs": [
    {
     "data": {
      "text/plain": [
       "(277316, 42966)"
      ]
     },
     "execution_count": 41,
     "metadata": {},
     "output_type": "execute_result"
    }
   ],
   "source": [
    "len(bk), len(mn)"
   ]
  },
  {
   "cell_type": "markdown",
   "metadata": {
    "run_control": {
     "frozen": false,
     "read_only": false
    }
   },
   "source": [
    "Major types of residential buildings are different between two borough. We can find this fact from the gap of One & Two Family Buildings and Multi-Family Elevator Buildings between two borough. Manhattan is denser area comparing to Brooklyn. Thus, It seems that Brooklyn has more buildings in most landuse except Multi-Family Elevator Buildings. However, the number of zipcode is inherently different and this is the reason results showing that Brooklyn has more buildings."
   ]
  }
 ],
 "metadata": {
  "kernelspec": {
   "display_name": "PUI2016_Python3",
   "language": "python",
   "name": "pui2016_python3"
  },
  "language_info": {
   "codemirror_mode": {
    "name": "ipython",
    "version": 3
   },
   "file_extension": ".py",
   "mimetype": "text/x-python",
   "name": "python",
   "nbconvert_exporter": "python",
   "pygments_lexer": "ipython3",
   "version": "3.5.4"
  },
  "toc": {
   "colors": {
    "hover_highlight": "#DAA520",
    "running_highlight": "#FF0000",
    "selected_highlight": "#FFD700"
   },
   "moveMenuLeft": true,
   "nav_menu": {
    "height": "168px",
    "width": "252px"
   },
   "navigate_menu": true,
   "number_sections": true,
   "sideBar": true,
   "threshold": 4,
   "toc_cell": false,
   "toc_section_display": "block",
   "toc_window_display": true
  }
 },
 "nbformat": 4,
 "nbformat_minor": 2
}
